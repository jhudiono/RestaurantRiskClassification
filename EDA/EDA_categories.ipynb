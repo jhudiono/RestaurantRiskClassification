{
 "cells": [
  {
   "cell_type": "code",
   "execution_count": 7,
   "metadata": {},
   "outputs": [],
   "source": [
    "from sqlalchemy import create_engine, inspect\n",
    "from sklearn_pandas import DataFrameMapper\n",
    "import pandas as pd\n",
    "from sklearn.preprocessing import LabelBinarizer\n",
    "import psycopg2\n",
    "import numpy as np\n",
    "from collections import Counter\n",
    "import json\n"
   ]
  },
  {
   "cell_type": "code",
   "execution_count": null,
   "metadata": {},
   "outputs": [],
   "source": [
    "PSQL = 'postgres://{}@localhost:5432/rpred'\n",
    "\n",
    "cred = \"\"\n",
    "with open(\"../credentials/localhost/jessica.txt\") as credfile:\n",
    "    cred = credfile.read().strip(\"\\n\")\n",
    "\n",
    "cnx = create_engine(PSQL.format(cred), isolation_level='AUTOCOMMIT')"
   ]
  },
  {
   "cell_type": "markdown",
   "metadata": {},
   "source": [
    "# [Categories](#categories)\n",
    "# [Attributes](#attributes)\n",
    "# [Hours](#hours)\n",
    "# [Example Json](#example)"
   ]
  },
  {
   "cell_type": "markdown",
   "metadata": {},
   "source": [
    " <a class=\"anchor\" id=\"categories\"></a>\n",
    "# Find most popular category keywords:"
   ]
  },
  {
   "cell_type": "code",
   "execution_count": 2,
   "metadata": {},
   "outputs": [
    {
     "data": {
      "text/html": [
       "<div>\n",
       "<style scoped>\n",
       "    .dataframe tbody tr th:only-of-type {\n",
       "        vertical-align: middle;\n",
       "    }\n",
       "\n",
       "    .dataframe tbody tr th {\n",
       "        vertical-align: top;\n",
       "    }\n",
       "\n",
       "    .dataframe thead th {\n",
       "        text-align: right;\n",
       "    }\n",
       "</style>\n",
       "<table border=\"1\" class=\"dataframe\">\n",
       "  <thead>\n",
       "    <tr style=\"text-align: right;\">\n",
       "      <th></th>\n",
       "      <th>business_id</th>\n",
       "      <th>categories</th>\n",
       "    </tr>\n",
       "  </thead>\n",
       "  <tbody>\n",
       "    <tr>\n",
       "      <th>0</th>\n",
       "      <td>5UmKMjUEUNdYWqANhGckJw</td>\n",
       "      <td>['Fast Food'  'Restaurants']</td>\n",
       "    </tr>\n",
       "    <tr>\n",
       "      <th>1</th>\n",
       "      <td>yXuao0pFz1AxB21vJjDf5w</td>\n",
       "      <td>['Food'  'Grocery']</td>\n",
       "    </tr>\n",
       "    <tr>\n",
       "      <th>2</th>\n",
       "      <td>zaXDakTd3RXyOa7sMrUE1g</td>\n",
       "      <td>['Cafes'  'Restaurants']</td>\n",
       "    </tr>\n",
       "    <tr>\n",
       "      <th>3</th>\n",
       "      <td>8QlnAcjGE6dgfKTVoxrPvQ</td>\n",
       "      <td>['American (Traditional)'  'Comfort Food'  'Ca...</td>\n",
       "    </tr>\n",
       "    <tr>\n",
       "      <th>4</th>\n",
       "      <td>PK6aSizckHFWk8i0oxt5DA</td>\n",
       "      <td>['Burgers'  'Fast Food'  'Restaurants']</td>\n",
       "    </tr>\n",
       "  </tbody>\n",
       "</table>\n",
       "</div>"
      ],
      "text/plain": [
       "              business_id                                         categories\n",
       "0  5UmKMjUEUNdYWqANhGckJw                       ['Fast Food'  'Restaurants']\n",
       "1  yXuao0pFz1AxB21vJjDf5w                                ['Food'  'Grocery']\n",
       "2  zaXDakTd3RXyOa7sMrUE1g                           ['Cafes'  'Restaurants']\n",
       "3  8QlnAcjGE6dgfKTVoxrPvQ  ['American (Traditional)'  'Comfort Food'  'Ca...\n",
       "4  PK6aSizckHFWk8i0oxt5DA            ['Burgers'  'Fast Food'  'Restaurants']"
      ]
     },
     "execution_count": 2,
     "metadata": {},
     "output_type": "execute_result"
    }
   ],
   "source": [
    "category_keywords = ['sandwiches', 'fast food', 'nightlife', 'pizza', 'bars',\n",
    "                     'mexican', 'food', 'american', 'burgers', 'chinese',\n",
    "                     'italian', 'breakfast & brunch', 'thai', 'indian',\n",
    "                     'sushi', 'korean', 'mediterranean', 'japanese', 'seafood',\n",
    "                     'middle eastern', 'pakistani', 'barbeque', 'vietnamese',\n",
    "                     'asian fusion', 'diners', 'greek', 'vegetarian', 'cafes',\n",
    "                    'comfort food', 'bakeries']\n",
    "    \n",
    "df_c = pd.read_sql_query('''SELECT business_id, categories FROM yelp_dataset_8''', cnx)\n",
    "\n",
    "df_c.head()"
   ]
  },
  {
   "cell_type": "code",
   "execution_count": 3,
   "metadata": {},
   "outputs": [
    {
     "data": {
      "text/html": [
       "<div>\n",
       "<style scoped>\n",
       "    .dataframe tbody tr th:only-of-type {\n",
       "        vertical-align: middle;\n",
       "    }\n",
       "\n",
       "    .dataframe tbody tr th {\n",
       "        vertical-align: top;\n",
       "    }\n",
       "\n",
       "    .dataframe thead th {\n",
       "        text-align: right;\n",
       "    }\n",
       "</style>\n",
       "<table border=\"1\" class=\"dataframe\">\n",
       "  <thead>\n",
       "    <tr style=\"text-align: right;\">\n",
       "      <th></th>\n",
       "      <th>business_id</th>\n",
       "      <th>categories</th>\n",
       "    </tr>\n",
       "  </thead>\n",
       "  <tbody>\n",
       "    <tr>\n",
       "      <th>0</th>\n",
       "      <td>5UmKMjUEUNdYWqANhGckJw</td>\n",
       "      <td>['fast food'  'restaurants']</td>\n",
       "    </tr>\n",
       "    <tr>\n",
       "      <th>1</th>\n",
       "      <td>yXuao0pFz1AxB21vJjDf5w</td>\n",
       "      <td>['food'  'grocery']</td>\n",
       "    </tr>\n",
       "    <tr>\n",
       "      <th>2</th>\n",
       "      <td>zaXDakTd3RXyOa7sMrUE1g</td>\n",
       "      <td>['cafes'  'restaurants']</td>\n",
       "    </tr>\n",
       "    <tr>\n",
       "      <th>3</th>\n",
       "      <td>8QlnAcjGE6dgfKTVoxrPvQ</td>\n",
       "      <td>['american (traditional)'  'comfort food'  'ca...</td>\n",
       "    </tr>\n",
       "    <tr>\n",
       "      <th>4</th>\n",
       "      <td>PK6aSizckHFWk8i0oxt5DA</td>\n",
       "      <td>['burgers'  'fast food'  'restaurants']</td>\n",
       "    </tr>\n",
       "  </tbody>\n",
       "</table>\n",
       "</div>"
      ],
      "text/plain": [
       "              business_id                                         categories\n",
       "0  5UmKMjUEUNdYWqANhGckJw                       ['fast food'  'restaurants']\n",
       "1  yXuao0pFz1AxB21vJjDf5w                                ['food'  'grocery']\n",
       "2  zaXDakTd3RXyOa7sMrUE1g                           ['cafes'  'restaurants']\n",
       "3  8QlnAcjGE6dgfKTVoxrPvQ  ['american (traditional)'  'comfort food'  'ca...\n",
       "4  PK6aSizckHFWk8i0oxt5DA            ['burgers'  'fast food'  'restaurants']"
      ]
     },
     "execution_count": 3,
     "metadata": {},
     "output_type": "execute_result"
    }
   ],
   "source": [
    "df_c['categories'] = df_c.categories.str.lower()\n",
    "df_c.head()"
   ]
  },
  {
   "cell_type": "code",
   "execution_count": 4,
   "metadata": {},
   "outputs": [
    {
     "data": {
      "text/plain": [
       "[('food', 13486),\n",
       " ('fast food', 3154),\n",
       " ('sandwiches', 1220),\n",
       " ('bakeries', 1203),\n",
       " ('cafes', 1127),\n",
       " ('burgers', 963),\n",
       " ('bars', 901),\n",
       " ('mexican', 837),\n",
       " ('american', 808),\n",
       " ('breakfast & brunch', 622),\n",
       " ('nightlife', 408),\n",
       " ('chinese', 270),\n",
       " ('pizza', 206),\n",
       " ('italian', 148),\n",
       " ('seafood', 110),\n",
       " ('mediterranean', 103),\n",
       " ('comfort food', 101),\n",
       " ('barbeque', 72),\n",
       " ('vegetarian', 71),\n",
       " ('asian fusion', 61),\n",
       " ('thai', 59),\n",
       " ('diners', 58),\n",
       " ('indian', 55),\n",
       " ('greek', 55),\n",
       " ('japanese', 54),\n",
       " ('middle eastern', 54),\n",
       " ('vietnamese', 31),\n",
       " ('korean', 30),\n",
       " ('sushi', 28),\n",
       " ('pakistani', 8)]"
      ]
     },
     "execution_count": 4,
     "metadata": {},
     "output_type": "execute_result"
    }
   ],
   "source": [
    "keyword_count = {}\n",
    "for keyword in category_keywords:\n",
    "    count = len(df_c[df_c.categories.str.contains(keyword)])\n",
    "    keyword_count[keyword] = count\n",
    "    \n",
    "sorted(keyword_count.items(), key=lambda x: x[1], reverse=True)"
   ]
  },
  {
   "cell_type": "markdown",
   "metadata": {},
   "source": [
    "## Top 10 interesting keywords:\n",
    "1. ('fast food', 3154),\n",
    "2. ('burgers', 963),\n",
    "3. ('bars', 901),\n",
    "4. ('mexican', 837),\n",
    "5. ('american', 808),\n",
    "6. ('chinese', 270),\n",
    "7. ('pizza', 206),\n",
    "8. ('italian', 148),\n",
    "9. ('seafood', 110),\n",
    "10. ('mediterranean', 103),"
   ]
  },
  {
   "cell_type": "markdown",
   "metadata": {},
   "source": [
    "# TODO: Create SQL table for categories."
   ]
  },
  {
   "cell_type": "code",
   "execution_count": 37,
   "metadata": {},
   "outputs": [],
   "source": [
    "json_str = \"\"\n",
    "with open(\"../data/yelp_dataset_round8/yelp_academic_dataset_business.json\") as file:\n",
    "    json_str = file.read()"
   ]
  },
  {
   "cell_type": "code",
   "execution_count": 42,
   "metadata": {},
   "outputs": [],
   "source": [
    "att = []\n",
    "hours = []\n",
    "for item in json_str.split(\"\\n\"):\n",
    "    if item.find(\"'Restaurants'\") > 0 or item.find(\"Food\") > 0 or item.find(\"Cafe\") > 0 or item.find(\"Bakeries\") > 0:\n",
    "        item = json.loads(item)\n",
    "        att.append(item['attributes'])\n",
    "        hours.append(item['hours'])"
   ]
  },
  {
   "cell_type": "markdown",
   "metadata": {},
   "source": [
    " <a class=\"anchor\" id=\"attributes\"></a>\n",
    "# Attributes\n",
    "* Good for\n",
    "* noise level\n",
    "* price range"
   ]
  },
  {
   "cell_type": "markdown",
   "metadata": {},
   "source": []
  },
  {
   "cell_type": "markdown",
   "metadata": {},
   "source": [
    " <a class=\"anchor\" id=\"hours\"></a>\n",
    "# Hours\n",
    "* Find most popular closed days\n",
    "* Average hours open\n",
    "* Total hours open weekly"
   ]
  },
  {
   "cell_type": "code",
   "execution_count": 55,
   "metadata": {
    "scrolled": true
   },
   "outputs": [
    {
     "data": {
      "text/plain": [
       "[('Sunday', 7912),\n",
       " ('Monday', 8824),\n",
       " ('Saturday', 9232),\n",
       " ('Tuesday', 9356),\n",
       " ('Wednesday', 9503),\n",
       " ('Thursday', 9552),\n",
       " ('Friday', 9565)]"
      ]
     },
     "execution_count": 55,
     "metadata": {},
     "output_type": "execute_result"
    }
   ],
   "source": [
    "open_days = Counter([kk for k in hours for kk in k])\n",
    "sorted(open_days.items(), key=lambda x: x[1])"
   ]
  },
  {
   "cell_type": "markdown",
   "metadata": {},
   "source": [
    "#### Most businesses open:\n",
    "* ('Thursday', 9552)\n",
    "* ('Friday', 9565)\n",
    "* ('Wednesday', 9503)\n",
    "\n",
    "#### Less businesses open:\n",
    "* ('Sunday', 7912)\n",
    "* ('Monday', 8824)"
   ]
  },
  {
   "cell_type": "markdown",
   "metadata": {},
   "source": [
    " <a class=\"anchor\" id=\"example\"></a>\n",
    "Example Json:\n",
    "\n",
    "    {'business_id': '5UmKMjUEUNdYWqANhGckJw',\n",
    "     'full_address': '4734 Lebanon Church Rd\\nDravosburg, PA 15034',\n",
    "     'hours': {'Friday': {'close': '21:00', 'open': '11:00'},\n",
    "       'Tuesday': {'close': '21:00', 'open': '11:00'},\n",
    "       'Thursday': {'close': '21:00', 'open': '11:00'},\n",
    "       'Wednesday': {'close': '21:00', 'open': '11:00'},\n",
    "       'Monday': {'close': '21:00', 'open': '11:00'}},\n",
    "     'open': True,\n",
    "     'categories': ['Fast Food', 'Restaurants'],\n",
    "     'city': 'Dravosburg',\n",
    "     'review_count': 7,\n",
    "     'name': 'Mr Hoagie',\n",
    "     'neighborhoods': [],\n",
    "     'longitude': -79.9007057,\n",
    "     'state': 'PA',\n",
    "     'stars': 3.5,\n",
    "     'latitude': 40.3543266,\n",
    "     'attributes': {'Take-out': True,\n",
    "      'Drive-Thru': False,\n",
    "      'Good For': {'dessert': False,\n",
    "       'latenight': False,\n",
    "       'lunch': False,\n",
    "       'dinner': False,\n",
    "       'brunch': False,\n",
    "       'breakfast': False},\n",
    "     'Caters': False,\n",
    "    'Noise Level': 'average',\n",
    "    'Takes Reservations': False,\n",
    "    'Delivery': False,\n",
    "    'Ambience': {'romantic': False,\n",
    "      'intimate': False,\n",
    "      'classy': False,\n",
    "      'hipster': False,\n",
    "      'divey': False,\n",
    "      'touristy': False,\n",
    "      'trendy': False,\n",
    "      'upscale': False,\n",
    "      'casual': False},\n",
    "    'Parking': {'garage': False,\n",
    "      'street': False,\n",
    "      'validated': False,\n",
    "      'lot': False,\n",
    "      'valet': False},\n",
    "    'Has TV': False,\n",
    "    'Outdoor Seating': False,\n",
    "    'Attire': 'casual',\n",
    "    'Alcohol': 'none',\n",
    "    'Waiter Service': False,\n",
    "    'Accepts Credit Cards': True,\n",
    "    'Good for Kids': True,\n",
    "    'Good For Groups': True,\n",
    "    'Price Range': 1},\n",
    "    'type': 'business'}"
   ]
  },
  {
   "cell_type": "code",
   "execution_count": null,
   "metadata": {},
   "outputs": [],
   "source": []
  }
 ],
 "metadata": {
  "kernelspec": {
   "display_name": "Python 3",
   "language": "python",
   "name": "python3"
  },
  "language_info": {
   "codemirror_mode": {
    "name": "ipython",
    "version": 3
   },
   "file_extension": ".py",
   "mimetype": "text/x-python",
   "name": "python",
   "nbconvert_exporter": "python",
   "pygments_lexer": "ipython3",
   "version": "3.6.5"
  }
 },
 "nbformat": 4,
 "nbformat_minor": 2
}
