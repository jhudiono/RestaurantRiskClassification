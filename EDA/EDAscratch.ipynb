{
 "cells": [
  {
   "cell_type": "code",
   "execution_count": 2,
   "metadata": {},
   "outputs": [],
   "source": [
    "import psycopg2\n",
    "import pandas as pd\n",
    "import matplotlib.pyplot as plt\n",
    "import numpy as np\n",
    "from collections import Counter\n",
    "from collections import defaultdict\n",
    "import xml.etree.ElementTree as et\n",
    "import io"
   ]
  },
  {
   "cell_type": "markdown",
   "metadata": {},
   "source": [
    "## Business Attributes columns:\n",
    "Index(['business_id', 'BusinessAcceptsCreditCards', 'BusinessParking_garage',\n",
    "       'BusinessParking_street', 'BusinessParking_validated',\n",
    "       'BusinessParking_lot', 'BusinessParking_valet',\n",
    "       'RestaurantsPriceRange2', 'GoodForKids', 'WheelchairAccessible',\n",
    "       'BikeParking', 'Alcohol', 'HasTV', 'NoiseLevel', 'RestaurantsAttire',\n",
    "       'Music_dj', 'Music_background_music', 'Music_no_music', 'Music_karaoke',\n",
    "       'Music_live', 'Music_video', 'Music_jukebox', 'Ambience_romantic',\n",
    "       'Ambience_intimate', 'Ambience_classy', 'Ambience_hipster',\n",
    "       'Ambience_divey', 'Ambience_touristy', 'Ambience_trendy',\n",
    "       'Ambience_upscale', 'Ambience_casual', 'RestaurantsGoodForGroups',\n",
    "       'Caters', 'WiFi', 'RestaurantsReservations', 'RestaurantsTakeOut',\n",
    "       'HappyHour', 'GoodForDancing', 'RestaurantsTableService',\n",
    "       'OutdoorSeating', 'RestaurantsDelivery', 'BestNights_monday',\n",
    "       'BestNights_tuesday', 'BestNights_friday', 'BestNights_wednesday',\n",
    "       'BestNights_thursday', 'BestNights_sunday', 'BestNights_saturday',\n",
    "       'GoodForMeal_dessert', 'GoodForMeal_latenight', 'GoodForMeal_lunch',\n",
    "       'GoodForMeal_dinner', 'GoodForMeal_breakfast', 'GoodForMeal_brunch',\n",
    "       'Smoking', 'DriveThru', 'DogsAllowed', 'BusinessAcceptsBitcoin',\n",
    "       'Open24Hours', 'DietaryRestrictions_dairy-free',\n",
    "       'DietaryRestrictions_gluten-free', 'DietaryRestrictions_vegan',\n",
    "       'DietaryRestrictions_kosher', 'DietaryRestrictions_halal',\n",
    "       'DietaryRestrictions_soy-free', 'DietaryRestrictions_vegetarian',\n",
    "       'AgesAllowed', 'RestaurantsCounterService'],\n",
    "      dtype='object')\n",
    "\n",
    "# TODO\n",
    "* clean NAN, duplicates, misspelling"
   ]
  },
  {
   "cell_type": "markdown",
   "metadata": {},
   "source": [
    "# Read restaurants data."
   ]
  },
  {
   "cell_type": "code",
   "execution_count": 4,
   "metadata": {
    "scrolled": false
   },
   "outputs": [
    {
     "data": {
      "text/html": [
       "<div>\n",
       "<style scoped>\n",
       "    .dataframe tbody tr th:only-of-type {\n",
       "        vertical-align: middle;\n",
       "    }\n",
       "\n",
       "    .dataframe tbody tr th {\n",
       "        vertical-align: top;\n",
       "    }\n",
       "\n",
       "    .dataframe thead th {\n",
       "        text-align: right;\n",
       "    }\n",
       "</style>\n",
       "<table border=\"1\" class=\"dataframe\">\n",
       "  <thead>\n",
       "    <tr style=\"text-align: right;\">\n",
       "      <th></th>\n",
       "      <th>business_id</th>\n",
       "      <th>name</th>\n",
       "      <th>neighborhood</th>\n",
       "      <th>address</th>\n",
       "      <th>city</th>\n",
       "      <th>state</th>\n",
       "      <th>postal_code</th>\n",
       "      <th>latitude</th>\n",
       "      <th>longitude</th>\n",
       "      <th>stars</th>\n",
       "      <th>review_count</th>\n",
       "      <th>is_open</th>\n",
       "      <th>categories</th>\n",
       "    </tr>\n",
       "  </thead>\n",
       "  <tbody>\n",
       "    <tr>\n",
       "      <th>0</th>\n",
       "      <td>PfOCPjBrlQAnz__NXj9h_w</td>\n",
       "      <td>\"Brick House Tavern + Tap\"</td>\n",
       "      <td>NaN</td>\n",
       "      <td>\"581 Howe Ave\"</td>\n",
       "      <td>Cuyahoga Falls</td>\n",
       "      <td>OH</td>\n",
       "      <td>44221</td>\n",
       "      <td>41.119535</td>\n",
       "      <td>-81.475690</td>\n",
       "      <td>3.5</td>\n",
       "      <td>116</td>\n",
       "      <td>1</td>\n",
       "      <td>American (New);Nightlife;Bars;Sandwiches;Ameri...</td>\n",
       "    </tr>\n",
       "    <tr>\n",
       "      <th>1</th>\n",
       "      <td>o9eMRCWt5PkpLDE0gOPtcQ</td>\n",
       "      <td>\"Messina\"</td>\n",
       "      <td>NaN</td>\n",
       "      <td>\"Richterstr. 11\"</td>\n",
       "      <td>Stuttgart</td>\n",
       "      <td>BW</td>\n",
       "      <td>70567</td>\n",
       "      <td>48.727200</td>\n",
       "      <td>9.147950</td>\n",
       "      <td>4.0</td>\n",
       "      <td>5</td>\n",
       "      <td>1</td>\n",
       "      <td>Italian;Restaurants</td>\n",
       "    </tr>\n",
       "    <tr>\n",
       "      <th>2</th>\n",
       "      <td>EsMcGiZaQuG1OOvL9iUFug</td>\n",
       "      <td>\"Any Given Sundae\"</td>\n",
       "      <td>NaN</td>\n",
       "      <td>\"2612 Brandt School Rd\"</td>\n",
       "      <td>Wexford</td>\n",
       "      <td>PA</td>\n",
       "      <td>15090</td>\n",
       "      <td>40.615102</td>\n",
       "      <td>-80.091349</td>\n",
       "      <td>5.0</td>\n",
       "      <td>15</td>\n",
       "      <td>1</td>\n",
       "      <td>Coffee &amp; Tea;Ice Cream &amp; Frozen Yogurt;Food</td>\n",
       "    </tr>\n",
       "    <tr>\n",
       "      <th>3</th>\n",
       "      <td>XOSRcvtaKc_Q5H1SAzN20A</td>\n",
       "      <td>\"East Coast Coffee\"</td>\n",
       "      <td>NaN</td>\n",
       "      <td>\"737 West Pike St\"</td>\n",
       "      <td>Houston</td>\n",
       "      <td>PA</td>\n",
       "      <td>15342</td>\n",
       "      <td>40.241548</td>\n",
       "      <td>-80.212815</td>\n",
       "      <td>4.5</td>\n",
       "      <td>3</td>\n",
       "      <td>0</td>\n",
       "      <td>Breakfast &amp; Brunch;Gluten-Free;Coffee &amp; Tea;Fo...</td>\n",
       "    </tr>\n",
       "    <tr>\n",
       "      <th>4</th>\n",
       "      <td>xcgFnd-MwkZeO5G2HQ0gAQ</td>\n",
       "      <td>\"T &amp; T Bakery and Cafe\"</td>\n",
       "      <td>Markham Village</td>\n",
       "      <td>\"35 Main Street N\"</td>\n",
       "      <td>Markham</td>\n",
       "      <td>ON</td>\n",
       "      <td>L3P 1X3</td>\n",
       "      <td>43.875177</td>\n",
       "      <td>-79.260153</td>\n",
       "      <td>4.0</td>\n",
       "      <td>38</td>\n",
       "      <td>1</td>\n",
       "      <td>Bakeries;Bagels;Food</td>\n",
       "    </tr>\n",
       "  </tbody>\n",
       "</table>\n",
       "</div>"
      ],
      "text/plain": [
       "              business_id                        name     neighborhood  \\\n",
       "0  PfOCPjBrlQAnz__NXj9h_w  \"Brick House Tavern + Tap\"              NaN   \n",
       "1  o9eMRCWt5PkpLDE0gOPtcQ                   \"Messina\"              NaN   \n",
       "2  EsMcGiZaQuG1OOvL9iUFug          \"Any Given Sundae\"              NaN   \n",
       "3  XOSRcvtaKc_Q5H1SAzN20A         \"East Coast Coffee\"              NaN   \n",
       "4  xcgFnd-MwkZeO5G2HQ0gAQ     \"T & T Bakery and Cafe\"  Markham Village   \n",
       "\n",
       "                   address            city state postal_code   latitude  \\\n",
       "0           \"581 Howe Ave\"  Cuyahoga Falls    OH       44221  41.119535   \n",
       "1         \"Richterstr. 11\"       Stuttgart    BW       70567  48.727200   \n",
       "2  \"2612 Brandt School Rd\"         Wexford    PA       15090  40.615102   \n",
       "3       \"737 West Pike St\"         Houston    PA       15342  40.241548   \n",
       "4       \"35 Main Street N\"         Markham    ON     L3P 1X3  43.875177   \n",
       "\n",
       "   longitude  stars  review_count  is_open  \\\n",
       "0 -81.475690    3.5           116        1   \n",
       "1   9.147950    4.0             5        1   \n",
       "2 -80.091349    5.0            15        1   \n",
       "3 -80.212815    4.5             3        0   \n",
       "4 -79.260153    4.0            38        1   \n",
       "\n",
       "                                          categories  \n",
       "0  American (New);Nightlife;Bars;Sandwiches;Ameri...  \n",
       "1                                Italian;Restaurants  \n",
       "2        Coffee & Tea;Ice Cream & Frozen Yogurt;Food  \n",
       "3  Breakfast & Brunch;Gluten-Free;Coffee & Tea;Fo...  \n",
       "4                               Bakeries;Bagels;Food  "
      ]
     },
     "execution_count": 4,
     "metadata": {},
     "output_type": "execute_result"
    }
   ],
   "source": [
    "restaurants = pd.read_csv(\"data/yelp/yelp_restaurants.csv\")\n",
    "restaurants.drop(columns='Unnamed: 0', inplace=True)\n",
    "restaurants.head()"
   ]
  },
  {
   "cell_type": "code",
   "execution_count": 68,
   "metadata": {},
   "outputs": [
    {
     "data": {
      "text/plain": [
       "array(['OH', 'BW', 'PA', 'ON', 'NC', 'SC', 'QC', 'AZ', 'NV', 'MLN', 'WI',\n",
       "       'IL', 'EDH', 'CO', 'NYK', 'CHE', 'HLD', 'ABE', 'WLN', 'KHL', 'NY',\n",
       "       'FIF', 'PKN', 'ST', '01', 'GLG', 'C', 'VS', 'ESX', 'ELN', 'IN',\n",
       "       'CA', '30', 'NI', 'BY', 'AK', 'FLN', '6', 'B', 'VA', 'HU', '3',\n",
       "       'XGL', 'ZET', 'RCC', 'WHT'], dtype=object)"
      ]
     },
     "execution_count": 68,
     "metadata": {},
     "output_type": "execute_result"
    }
   ],
   "source": [
    "restaurants.state.unique()"
   ]
  },
  {
   "cell_type": "markdown",
   "metadata": {},
   "source": [
    "# Find most popular values for city, category, etc."
   ]
  },
  {
   "cell_type": "code",
   "execution_count": 74,
   "metadata": {},
   "outputs": [],
   "source": [
    "# Get counts for each city\n",
    "city_states = [(r[0], r[1]) for r in restaurants[['city', 'state']].values]\n",
    "city_count = Counter(city_states)"
   ]
  },
  {
   "cell_type": "code",
   "execution_count": 81,
   "metadata": {},
   "outputs": [
    {
     "name": "stdout",
     "output_type": "stream",
     "text": [
      "859 66\n"
     ]
    }
   ],
   "source": [
    "city_count_condensed = defaultdict(int)\n",
    "for t, count in city_count.items():\n",
    "    key = t\n",
    "    if count <= 200:\n",
    "        key = (\"Other\")\n",
    "    city_count_condensed[key] += count\n",
    "print(len(city_count), len(city_count_condensed))\n",
    "    "
   ]
  },
  {
   "cell_type": "code",
   "execution_count": 86,
   "metadata": {
    "scrolled": false
   },
   "outputs": [
    {
     "data": {
      "text/plain": [
       "<BarContainer object of 66 artists>"
      ]
     },
     "execution_count": 86,
     "metadata": {},
     "output_type": "execute_result"
    },
    {
     "data": {
      "image/png": "[encoded data removed]",
      "text/plain": [
       "<Figure size 2880x1800 with 1 Axes>"
      ]
     },
     "metadata": {},
     "output_type": "display_data"
    }
   ],
   "source": [
    "x = city_count_condensed.keys()\n",
    "\n",
    "plt.figure(figsize=(40, 25))\n",
    "plt.barh(y=[k[0] for k in x],\n",
    "       width=[city_count_condensed[k] for k in x])"
   ]
  },
  {
   "cell_type": "code",
   "execution_count": 15,
   "metadata": {
    "scrolled": true
   },
   "outputs": [
    {
     "name": "stdout",
     "output_type": "stream",
     "text": [
      "[614, 711, 853, 957, 1066, 1091, 1213, 1260, 1289, 1468, 1569, 1709, 1881, 1957, 2876, 3183, 4031, 4743, 7608, 9152]\n"
     ]
    }
   ],
   "source": []
  },
  {
   "cell_type": "code",
   "execution_count": null,
   "metadata": {},
   "outputs": [],
   "source": [
    "from collections import Counter\n",
    "\n",
    "categories = restaurants.categories.values()\n",
    "categories = [cat for cat in cats.split(\";\") for cats in categories]\n",
    "cat_count = Counter(categories)\n"
   ]
  },
  {
   "cell_type": "markdown",
   "metadata": {},
   "source": [
    "# Toronto XML?\n",
    "\n",
    "https://portal0.cf.opendata.inter.sandbox-toronto.ca/dataset/dinesafe-restaurant-health-inspections/\n",
    "\n",
    "    <ROW_ID>1</ROW_ID><br />\n",
    "    <ESTABLISHMENT_ID>1222579</ESTABLISHMENT_ID><br />\n",
    "    <INSPECTION_ID>103868579</INSPECTION_ID><br />\n",
    "    <ESTABLISHMENT_NAME>SAI-LILA KHAMAN DHOKLA HOUSE</ESTABLISHMENT_NAME><br />\n",
    "    <ESTABLISHMENTTYPE>Food Take Out</ESTABLISHMENTTYPE><br />\n",
    "    <ESTABLISHMENT_ADDRESS>870 MARKHAM RD</ESTABLISHMENT_ADDRESS><br />\n",
    "    <ESTABLISHMENT_STATUS>Pass</ESTABLISHMENT_STATUS><br />\n",
    "    <MINIMUM_INSPECTIONS_PERYEAR>2</MINIMUM_INSPECTIONS_PERYEAR><br />\n",
    "    <INFRACTION_DETAILS>Operator fail to properly wash equipment</INFRACTION_DETAILS><br />\n",
    "    <INSPECTION_DATE>2016-12-21</INSPECTION_DATE><br />\n",
    "    <SEVERITY>M - Minor</SEVERITY><br />\n",
    "    <ACTION>Notice to Comply</ACTION><br />\n",
    "    <COURT_OUTCOME></COURT_OUTCOME><br />\n",
    "    <AMOUNT_FINED></AMOUNT_FINED><br />\n",
    "    </ROW>\n"
   ]
  },
  {
   "cell_type": "code",
   "execution_count": 318,
   "metadata": {},
   "outputs": [],
   "source": [
    "xml_data = io.StringIO('''<ROW><ROW_ID>1</ROW_ID>\n",
    "<ESTABLISHMENT_ID>1222579</ESTABLISHMENT_ID>\n",
    "<INSPECTION_ID>103868579</INSPECTION_ID>\n",
    "<ESTABLISHMENT_NAME>SAI-LILA KHAMAN DHOKLA HOUSE</ESTABLISHMENT_NAME>\n",
    "<ESTABLISHMENTTYPE>Food Take Out</ESTABLISHMENTTYPE>\n",
    "<ESTABLISHMENT_ADDRESS>870 MARKHAM RD</ESTABLISHMENT_ADDRESS>\n",
    "<ESTABLISHMENT_STATUS>Pass</ESTABLISHMENT_STATUS>\n",
    "<MINIMUM_INSPECTIONS_PERYEAR>2</MINIMUM_INSPECTIONS_PERYEAR>\n",
    "<INFRACTION_DETAILS>Operator fail to properly wash equipment</INFRACTION_DETAILS>\n",
    "<INSPECTION_DATE>2016-12-21</INSPECTION_DATE>\n",
    "<SEVERITY>M - Minor</SEVERITY>\n",
    "<ACTION>Notice to Comply</ACTION>\n",
    "<COURT_OUTCOME></COURT_OUTCOME>\n",
    "<AMOUNT_FINED></AMOUNT_FINED>\n",
    "</ROW>''')\n",
    "\n",
    "def getvalueofnode(node):\n",
    "    \"\"\" return node text or None \"\"\"\n",
    "    return node.text if node is not None else None\n",
    "\n",
    "def read_xml(xml):\n",
    "    parsed_xml = et.parse(xml)\n",
    "    if len(parsed_xml.getroot() == 0):\n",
    "        return\n",
    "    dfcols = []\n",
    "    for node in parsed_xml.getroot()[0]:\n",
    "        dfcols.append(node.tag)\n",
    "    df_xml = pd.DataFrame(columns=dfcols)\n",
    " \n",
    "    for row in parsed_xml.getroot():\n",
    "        vals = []\n",
    "        for node in row:\n",
    "            vals.append(getvalueofnode(node))\n",
    " \n",
    "        df_xml = df_xml.append(pd.Series(vals, index=dfcols),\n",
    "                #pd.Series([name, getvalueofnode(email), getvalueofnode(phone),\n",
    "                #           getvalueofnode(street)], index=dfcols),\n",
    "        ignore_index = True)\n",
    " \n",
    "    return df_xml\n"
   ]
  },
  {
   "cell_type": "code",
   "execution_count": 272,
   "metadata": {
    "scrolled": false
   },
   "outputs": [
    {
     "data": {
      "text/html": [
       "<div>\n",
       "<style scoped>\n",
       "    .dataframe tbody tr th:only-of-type {\n",
       "        vertical-align: middle;\n",
       "    }\n",
       "\n",
       "    .dataframe tbody tr th {\n",
       "        vertical-align: top;\n",
       "    }\n",
       "\n",
       "    .dataframe thead th {\n",
       "        text-align: right;\n",
       "    }\n",
       "</style>\n",
       "<table border=\"1\" class=\"dataframe\">\n",
       "  <thead>\n",
       "    <tr style=\"text-align: right;\">\n",
       "      <th></th>\n",
       "      <th>ROW_ID</th>\n",
       "      <th>establishment_id</th>\n",
       "      <th>inspection_id</th>\n",
       "      <th>establishment_name</th>\n",
       "      <th>establishmenttype</th>\n",
       "      <th>establishment_address</th>\n",
       "      <th>latitude</th>\n",
       "      <th>longitude</th>\n",
       "      <th>establishment_status</th>\n",
       "      <th>minimum_inspections_peryear</th>\n",
       "      <th>infraction_details</th>\n",
       "      <th>inspection_date</th>\n",
       "      <th>SEVERITY</th>\n",
       "      <th>action</th>\n",
       "      <th>court_outcome</th>\n",
       "      <th>amount_fined</th>\n",
       "    </tr>\n",
       "  </thead>\n",
       "  <tbody>\n",
       "    <tr>\n",
       "      <th>0</th>\n",
       "      <td>1</td>\n",
       "      <td>1222579</td>\n",
       "      <td>103868579</td>\n",
       "      <td>SAI-LILA KHAMAN DHOKLA HOUSE</td>\n",
       "      <td>Food Take Out</td>\n",
       "      <td>870 MARKHAM RD</td>\n",
       "      <td>43.76797956</td>\n",
       "      <td>-79.229029122</td>\n",
       "      <td>Pass</td>\n",
       "      <td>2</td>\n",
       "      <td>Operator fail to properly wash equipment</td>\n",
       "      <td>2016-12-21</td>\n",
       "      <td>M - Minor</td>\n",
       "      <td>Notice to Comply</td>\n",
       "      <td></td>\n",
       "      <td></td>\n",
       "    </tr>\n",
       "    <tr>\n",
       "      <th>1</th>\n",
       "      <td>2</td>\n",
       "      <td>1222579</td>\n",
       "      <td>104063869</td>\n",
       "      <td>SAI-LILA KHAMAN DHOKLA HOUSE</td>\n",
       "      <td>Food Take Out</td>\n",
       "      <td>870 MARKHAM RD</td>\n",
       "      <td>43.76797956</td>\n",
       "      <td>-79.229029122</td>\n",
       "      <td>Pass</td>\n",
       "      <td>2</td>\n",
       "      <td>None</td>\n",
       "      <td>2017-10-04</td>\n",
       "      <td>None</td>\n",
       "      <td>None</td>\n",
       "      <td>None</td>\n",
       "      <td>None</td>\n",
       "    </tr>\n",
       "    <tr>\n",
       "      <th>2</th>\n",
       "      <td>3</td>\n",
       "      <td>1222579</td>\n",
       "      <td>104246429</td>\n",
       "      <td>SAI-LILA KHAMAN DHOKLA HOUSE</td>\n",
       "      <td>Food Take Out</td>\n",
       "      <td>870 MARKHAM RD</td>\n",
       "      <td>43.76797956</td>\n",
       "      <td>-79.229029122</td>\n",
       "      <td>Pass</td>\n",
       "      <td>2</td>\n",
       "      <td>Fail to Hold a Valid Food Handler's Certificat...</td>\n",
       "      <td>2018-06-20</td>\n",
       "      <td>NA - Not Applicable</td>\n",
       "      <td>Notice to Comply</td>\n",
       "      <td></td>\n",
       "      <td></td>\n",
       "    </tr>\n",
       "    <tr>\n",
       "      <th>3</th>\n",
       "      <td>4</td>\n",
       "      <td>1222579</td>\n",
       "      <td>104246429</td>\n",
       "      <td>SAI-LILA KHAMAN DHOKLA HOUSE</td>\n",
       "      <td>Food Take Out</td>\n",
       "      <td>870 MARKHAM RD</td>\n",
       "      <td>43.76797956</td>\n",
       "      <td>-79.229029122</td>\n",
       "      <td>Pass</td>\n",
       "      <td>2</td>\n",
       "      <td>Operator fail to properly wash equipment</td>\n",
       "      <td>2018-06-20</td>\n",
       "      <td>M - Minor</td>\n",
       "      <td>Notice to Comply</td>\n",
       "      <td></td>\n",
       "      <td></td>\n",
       "    </tr>\n",
       "    <tr>\n",
       "      <th>4</th>\n",
       "      <td>5</td>\n",
       "      <td>1222579</td>\n",
       "      <td>104246429</td>\n",
       "      <td>SAI-LILA KHAMAN DHOKLA HOUSE</td>\n",
       "      <td>Food Take Out</td>\n",
       "      <td>870 MARKHAM RD</td>\n",
       "      <td>43.76797956</td>\n",
       "      <td>-79.229029122</td>\n",
       "      <td>Pass</td>\n",
       "      <td>2</td>\n",
       "      <td>Operator fail to properly wash surfaces in rooms</td>\n",
       "      <td>2018-06-20</td>\n",
       "      <td>M - Minor</td>\n",
       "      <td>Notice to Comply</td>\n",
       "      <td></td>\n",
       "      <td></td>\n",
       "    </tr>\n",
       "  </tbody>\n",
       "</table>\n",
       "</div>"
      ],
      "text/plain": [
       "  ROW_ID establishment_id inspection_id            establishment_name  \\\n",
       "0      1          1222579     103868579  SAI-LILA KHAMAN DHOKLA HOUSE   \n",
       "1      2          1222579     104063869  SAI-LILA KHAMAN DHOKLA HOUSE   \n",
       "2      3          1222579     104246429  SAI-LILA KHAMAN DHOKLA HOUSE   \n",
       "3      4          1222579     104246429  SAI-LILA KHAMAN DHOKLA HOUSE   \n",
       "4      5          1222579     104246429  SAI-LILA KHAMAN DHOKLA HOUSE   \n",
       "\n",
       "  establishmenttype establishment_address     latitude      longitude  \\\n",
       "0     Food Take Out       870 MARKHAM RD   43.76797956  -79.229029122   \n",
       "1     Food Take Out       870 MARKHAM RD   43.76797956  -79.229029122   \n",
       "2     Food Take Out       870 MARKHAM RD   43.76797956  -79.229029122   \n",
       "3     Food Take Out       870 MARKHAM RD   43.76797956  -79.229029122   \n",
       "4     Food Take Out       870 MARKHAM RD   43.76797956  -79.229029122   \n",
       "\n",
       "  establishment_status minimum_inspections_peryear  \\\n",
       "0                 Pass                           2   \n",
       "1                 Pass                           2   \n",
       "2                 Pass                           2   \n",
       "3                 Pass                           2   \n",
       "4                 Pass                           2   \n",
       "\n",
       "                                  infraction_details inspection_date  \\\n",
       "0           Operator fail to properly wash equipment      2016-12-21   \n",
       "1                                               None      2017-10-04   \n",
       "2  Fail to Hold a Valid Food Handler's Certificat...      2018-06-20   \n",
       "3           Operator fail to properly wash equipment      2018-06-20   \n",
       "4   Operator fail to properly wash surfaces in rooms      2018-06-20   \n",
       "\n",
       "              SEVERITY            action court_outcome amount_fined  \n",
       "0            M - Minor  Notice to Comply                             \n",
       "1                 None              None          None         None  \n",
       "2  NA - Not Applicable  Notice to Comply                             \n",
       "3            M - Minor  Notice to Comply                             \n",
       "4            M - Minor  Notice to Comply                             "
      ]
     },
     "execution_count": 272,
     "metadata": {},
     "output_type": "execute_result"
    }
   ],
   "source": [
    "with open(\"data/safety/toronto_1.xml\", \"r\") as myfile:\n",
    "    df = read_xml(myfile)\n",
    "df.head()"
   ]
  },
  {
   "cell_type": "code",
   "execution_count": 203,
   "metadata": {
    "scrolled": true
   },
   "outputs": [
    {
     "name": "stdout",
     "output_type": "stream",
     "text": [
      "ROW_ID 1\n",
      "establishment_id 1222579\n",
      "inspection_id 103868579\n",
      "establishment_name SAI-LILA KHAMAN DHOKLA HOUSE\n",
      "establishmenttype Food Take Out\n",
      "establishment_address 870 MARKHAM RD \n",
      "latitude 43.76797956\n",
      "longitude -79.229029122\n",
      "establishment_status Pass\n",
      "minimum_inspections_peryear 2\n",
      "infraction_details Operator fail to properly wash equipment\n",
      "inspection_date 2016-12-21\n",
      "SEVERITY M - Minor\n",
      "action Notice to Comply\n",
      "court_outcome  \n",
      "amount_fined  \n"
     ]
    }
   ],
   "source": [
    "for x, y in zip(df.columns, df.iloc[0]):\n",
    "    print(x, y)\n",
    "    "
   ]
  },
  {
   "cell_type": "code",
   "execution_count": 268,
   "metadata": {
    "scrolled": true
   },
   "outputs": [
    {
     "data": {
      "text/plain": [
       "\"insert into xml_test (row_id,establishment_id,inspection_id,name,type,status,min_inspections_per_year,infraction_details,inspection_date,severity,action,court_outcome,amount_fined) values ('5','1222579','104246429','SAI-LILA KHAMAN DHOKLA HOUSE','Food Take Out','Pass','2','Operator fail to properly wash surfaces in rooms','2018-06-20','M - Minor','Notice to Comply',' ',0);\""
      ]
     },
     "execution_count": 268,
     "metadata": {},
     "output_type": "execute_result"
    }
   ],
   "source": [
    "\n",
    "df_cols = ['ROW_ID', 'establishment_id', 'inspection_id', 'establishment_name',\n",
    "           'establishmenttype', 'establishment_status', 'minimum_inspections_peryear',\n",
    "           'infraction_details', 'inspection_date', 'SEVERITY', 'action', 'court_outcome',\n",
    "           'amount_fined']\n",
    "sql_cols = ['row_id', 'establishment_id', 'inspection_id', 'name', 'type', 'status',\n",
    "            'min_inspections_per_year', 'infraction_details', 'inspection_date', 'severity', 'action', \n",
    "            'court_outcome', 'amount_fined']\n",
    "\n",
    "def format_value(v):\n",
    "    if v:\n",
    "        v = v.replace(\"'\", \"''\")\n",
    "        return \"'\"+v.replace(\"\\n\", \"\")+\"'\"\n",
    "    return \"' '\"\n",
    "\n",
    "def make_insert_query(row):\n",
    "    insert = 'insert into xml_test ({}) values ({});'\n",
    "    values = [format_value(v) for v in df[df_cols].iloc[row].values]\n",
    "    if not values[-1].isdigit():\n",
    "        values[-1] = '0'\n",
    "    return insert.format(','.join(sql_cols), ','.join(values))\n",
    "\n",
    "make_insert_query(4)"
   ]
  },
  {
   "cell_type": "code",
   "execution_count": 269,
   "metadata": {},
   "outputs": [
    {
     "name": "stdout",
     "output_type": "stream",
     "text": [
      "done\n",
      "[(1, 1222579, 103868579, 'SAI-LILA KHAMAN DHOKLA HOUSE', 'Food Take Out', 'Pass', 'M - Minor', 'Operator fail to properly wash equipment', 2, 'Notice to Comply', ' ', 0.0, '2016-12-21'), (2, 1222579, 104063869, 'SAI-LILA KHAMAN DHOKLA HOUSE', 'Food Take Out', 'Pass', ' ', ' ', 2, ' ', ' ', 0.0, '2017-10-04'), (3, 1222579, 104246429, 'SAI-LILA KHAMAN DHOKLA HOUSE', 'Food Take Out', 'Pass', 'NA - Not Applicable', \"Fail to Hold a Valid Food Handler's Certificate. Muncipal Code Chapter 545-157(17)(b)\", 2, 'Notice to Comply', ' ', 0.0, '2018-06-20'), (4, 1222579, 104246429, 'SAI-LILA KHAMAN DHOKLA HOUSE', 'Food Take Out', 'Pass', 'M - Minor', 'Operator fail to properly wash equipment', 2, 'Notice to Comply', ' ', 0.0, '2018-06-20'), (5, 1222579, 104246429, 'SAI-LILA KHAMAN DHOKLA HOUSE', 'Food Take Out', 'Pass', 'M - Minor', 'Operator fail to properly wash surfaces in rooms', 2, 'Notice to Comply', ' ', 0.0, '2018-06-20')]\n"
     ]
    }
   ],
   "source": [
    "conn = psycopg2.connect(\"host=localhost dbname=rpred user=test password=123\")\n",
    "\n",
    "def df_to_sql(conn):\n",
    "    cur = conn.cursor()\n",
    "    for i in range(1, len(df.values)):\n",
    "        cur.execute(make_insert_query(i))\n",
    "    conn.commit()\n",
    "    print(\"done\")\n",
    "    \n",
    "df_to_sql(conn)\n",
    "cur = conn.cursor();\n",
    "cur.execute(\"select * from xml_test limit 5;\")\n",
    "print(cur.fetchall())  # cur.fetchone()"
   ]
  },
  {
   "cell_type": "markdown",
   "metadata": {},
   "source": [
    "# Scratch"
   ]
  },
  {
   "cell_type": "code",
   "execution_count": 5,
   "metadata": {},
   "outputs": [],
   "source": [
    "df = pd.read_csv(\"data/yelp/yelp_business.csv\")"
   ]
  },
  {
   "cell_type": "code",
   "execution_count": 6,
   "metadata": {
    "scrolled": true
   },
   "outputs": [
    {
     "name": "stdout",
     "output_type": "stream",
     "text": [
      "Index(['business_id', 'name', 'neighborhood', 'address', 'city', 'state',\n",
      "       'postal_code', 'latitude', 'longitude', 'stars', 'review_count',\n",
      "       'is_open', 'categories'],\n",
      "      dtype='object')\n"
     ]
    }
   ],
   "source": [
    "print(df.columns)"
   ]
  },
  {
   "cell_type": "code",
   "execution_count": 48,
   "metadata": {},
   "outputs": [
    {
     "name": "stderr",
     "output_type": "stream",
     "text": [
      "/home/jessica/anaconda3/lib/python3.6/site-packages/ipykernel_launcher.py:1: UserWarning: This pattern has match groups. To actually get the groups, use str.extract.\n",
      "  \"\"\"Entry point for launching an IPython kernel.\n"
     ]
    },
    {
     "name": "stdout",
     "output_type": "stream",
     "text": [
      "69079\n"
     ]
    }
   ],
   "source": [
    "restaurants = (df[df['categories'].str.contains(\"(Restaurant)|(Food)|(Cafe)|(Bakeries)\")])\n",
    "print(len(restaurants))"
   ]
  },
  {
   "cell_type": "code",
   "execution_count": 63,
   "metadata": {},
   "outputs": [
    {
     "data": {
      "text/plain": [
       "11039"
      ]
     },
     "execution_count": 63,
     "metadata": {},
     "output_type": "execute_result"
    }
   ],
   "source": [
    "len(restaurants.postal_code.unique())"
   ]
  },
  {
   "cell_type": "code",
   "execution_count": 64,
   "metadata": {},
   "outputs": [],
   "source": [
    "closed = restaurants[restaurants['is_open'] == 0]"
   ]
  },
  {
   "cell_type": "code",
   "execution_count": 117,
   "metadata": {
    "scrolled": false
   },
   "outputs": [
    {
     "data": {
      "text/plain": [
       "array(['Breakfast & Brunch;Gluten-Free;Coffee & Tea;Food;Restaurants;Sandwiches',\n",
       "       'Italian;French;Restaurants',\n",
       "       'Food;American (Traditional);Coffee & Tea;Restaurants', ...,\n",
       "       'Food;Grocery;Restaurants;Coffee & Tea;Indian',\n",
       "       'Coffee & Tea;Nightlife;Food;Bars',\n",
       "       'Nightlife;Restaurants;Sandwiches;Bars;Canadian (New);Asian Fusion;Pubs'],\n",
       "      dtype=object)"
      ]
     },
     "execution_count": 117,
     "metadata": {},
     "output_type": "execute_result"
    }
   ],
   "source": [
    "#closed.drop(columns='level_0', inplace=True)\n",
    "closed.categories.unique()"
   ]
  },
  {
   "cell_type": "code",
   "execution_count": 79,
   "metadata": {},
   "outputs": [],
   "source": [
    "closed.to_csv(\"yelp_restaurants_closed.csv\")"
   ]
  },
  {
   "cell_type": "code",
   "execution_count": 91,
   "metadata": {},
   "outputs": [
    {
     "data": {
      "text/html": [
       "<div>\n",
       "<style scoped>\n",
       "    .dataframe tbody tr th:only-of-type {\n",
       "        vertical-align: middle;\n",
       "    }\n",
       "\n",
       "    .dataframe tbody tr th {\n",
       "        vertical-align: top;\n",
       "    }\n",
       "\n",
       "    .dataframe thead th {\n",
       "        text-align: right;\n",
       "    }\n",
       "</style>\n",
       "<table border=\"1\" class=\"dataframe\">\n",
       "  <thead>\n",
       "    <tr style=\"text-align: right;\">\n",
       "      <th></th>\n",
       "      <th>business_id</th>\n",
       "      <th>BusinessAcceptsCreditCards</th>\n",
       "      <th>BusinessParking_garage</th>\n",
       "      <th>BusinessParking_street</th>\n",
       "      <th>BusinessParking_validated</th>\n",
       "      <th>BusinessParking_lot</th>\n",
       "      <th>BusinessParking_valet</th>\n",
       "      <th>RestaurantsPriceRange2</th>\n",
       "      <th>GoodForKids</th>\n",
       "      <th>WheelchairAccessible</th>\n",
       "      <th>...</th>\n",
       "      <th>BYOB</th>\n",
       "      <th>DietaryRestrictions_dairy-free</th>\n",
       "      <th>DietaryRestrictions_gluten-free</th>\n",
       "      <th>DietaryRestrictions_vegan</th>\n",
       "      <th>DietaryRestrictions_kosher</th>\n",
       "      <th>DietaryRestrictions_halal</th>\n",
       "      <th>DietaryRestrictions_soy-free</th>\n",
       "      <th>DietaryRestrictions_vegetarian</th>\n",
       "      <th>AgesAllowed</th>\n",
       "      <th>RestaurantsCounterService</th>\n",
       "    </tr>\n",
       "  </thead>\n",
       "  <tbody>\n",
       "    <tr>\n",
       "      <th>0</th>\n",
       "      <td>FYWN1wneV18bWNgQjJ2GNg</td>\n",
       "      <td>Na</td>\n",
       "      <td>True</td>\n",
       "      <td>Na</td>\n",
       "      <td>Na</td>\n",
       "      <td>Na</td>\n",
       "      <td>Na</td>\n",
       "      <td>Na</td>\n",
       "      <td>Na</td>\n",
       "      <td>Na</td>\n",
       "      <td>...</td>\n",
       "      <td>Na</td>\n",
       "      <td>Na</td>\n",
       "      <td>Na</td>\n",
       "      <td>Na</td>\n",
       "      <td>Na</td>\n",
       "      <td>Na</td>\n",
       "      <td>Na</td>\n",
       "      <td>Na</td>\n",
       "      <td>Na</td>\n",
       "      <td>Na</td>\n",
       "    </tr>\n",
       "    <tr>\n",
       "      <th>1</th>\n",
       "      <td>He-G7vWjzVUysIKrfNbPUQ</td>\n",
       "      <td>Na</td>\n",
       "      <td>Na</td>\n",
       "      <td>Na</td>\n",
       "      <td>Na</td>\n",
       "      <td>Na</td>\n",
       "      <td>Na</td>\n",
       "      <td>Na</td>\n",
       "      <td>Na</td>\n",
       "      <td>Na</td>\n",
       "      <td>...</td>\n",
       "      <td>Na</td>\n",
       "      <td>Na</td>\n",
       "      <td>Na</td>\n",
       "      <td>Na</td>\n",
       "      <td>Na</td>\n",
       "      <td>Na</td>\n",
       "      <td>Na</td>\n",
       "      <td>Na</td>\n",
       "      <td>Na</td>\n",
       "      <td>Na</td>\n",
       "    </tr>\n",
       "    <tr>\n",
       "      <th>2</th>\n",
       "      <td>8DShNS-LuFqpEWIp0HxijA</td>\n",
       "      <td>Na</td>\n",
       "      <td>Na</td>\n",
       "      <td>Na</td>\n",
       "      <td>Na</td>\n",
       "      <td>Na</td>\n",
       "      <td>Na</td>\n",
       "      <td>Na</td>\n",
       "      <td>Na</td>\n",
       "      <td>Na</td>\n",
       "      <td>...</td>\n",
       "      <td>Na</td>\n",
       "      <td>Na</td>\n",
       "      <td>Na</td>\n",
       "      <td>Na</td>\n",
       "      <td>Na</td>\n",
       "      <td>Na</td>\n",
       "      <td>Na</td>\n",
       "      <td>Na</td>\n",
       "      <td>Na</td>\n",
       "      <td>Na</td>\n",
       "    </tr>\n",
       "    <tr>\n",
       "      <th>3</th>\n",
       "      <td>PfOCPjBrlQAnz__NXj9h_w</td>\n",
       "      <td>Na</td>\n",
       "      <td>Na</td>\n",
       "      <td>Na</td>\n",
       "      <td>Na</td>\n",
       "      <td>Na</td>\n",
       "      <td>Na</td>\n",
       "      <td>Na</td>\n",
       "      <td>Na</td>\n",
       "      <td>Na</td>\n",
       "      <td>...</td>\n",
       "      <td>Na</td>\n",
       "      <td>Na</td>\n",
       "      <td>Na</td>\n",
       "      <td>Na</td>\n",
       "      <td>Na</td>\n",
       "      <td>Na</td>\n",
       "      <td>Na</td>\n",
       "      <td>Na</td>\n",
       "      <td>Na</td>\n",
       "      <td>Na</td>\n",
       "    </tr>\n",
       "    <tr>\n",
       "      <th>4</th>\n",
       "      <td>o9eMRCWt5PkpLDE0gOPtcQ</td>\n",
       "      <td>Na</td>\n",
       "      <td>Na</td>\n",
       "      <td>False</td>\n",
       "      <td>False</td>\n",
       "      <td>False</td>\n",
       "      <td>False</td>\n",
       "      <td>Na</td>\n",
       "      <td>Na</td>\n",
       "      <td>Na</td>\n",
       "      <td>...</td>\n",
       "      <td>Na</td>\n",
       "      <td>Na</td>\n",
       "      <td>Na</td>\n",
       "      <td>Na</td>\n",
       "      <td>Na</td>\n",
       "      <td>Na</td>\n",
       "      <td>Na</td>\n",
       "      <td>Na</td>\n",
       "      <td>Na</td>\n",
       "      <td>Na</td>\n",
       "    </tr>\n",
       "  </tbody>\n",
       "</table>\n",
       "<p>5 rows × 70 columns</p>\n",
       "</div>"
      ],
      "text/plain": [
       "              business_id BusinessAcceptsCreditCards BusinessParking_garage  \\\n",
       "0  FYWN1wneV18bWNgQjJ2GNg                         Na                   True   \n",
       "1  He-G7vWjzVUysIKrfNbPUQ                         Na                     Na   \n",
       "2  8DShNS-LuFqpEWIp0HxijA                         Na                     Na   \n",
       "3  PfOCPjBrlQAnz__NXj9h_w                         Na                     Na   \n",
       "4  o9eMRCWt5PkpLDE0gOPtcQ                         Na                     Na   \n",
       "\n",
       "  BusinessParking_street BusinessParking_validated BusinessParking_lot  \\\n",
       "0                     Na                        Na                  Na   \n",
       "1                     Na                        Na                  Na   \n",
       "2                     Na                        Na                  Na   \n",
       "3                     Na                        Na                  Na   \n",
       "4                  False                     False               False   \n",
       "\n",
       "  BusinessParking_valet RestaurantsPriceRange2 GoodForKids  \\\n",
       "0                    Na                     Na          Na   \n",
       "1                    Na                     Na          Na   \n",
       "2                    Na                     Na          Na   \n",
       "3                    Na                     Na          Na   \n",
       "4                 False                     Na          Na   \n",
       "\n",
       "  WheelchairAccessible            ...            BYOB  \\\n",
       "0                   Na            ...              Na   \n",
       "1                   Na            ...              Na   \n",
       "2                   Na            ...              Na   \n",
       "3                   Na            ...              Na   \n",
       "4                   Na            ...              Na   \n",
       "\n",
       "  DietaryRestrictions_dairy-free DietaryRestrictions_gluten-free  \\\n",
       "0                             Na                              Na   \n",
       "1                             Na                              Na   \n",
       "2                             Na                              Na   \n",
       "3                             Na                              Na   \n",
       "4                             Na                              Na   \n",
       "\n",
       "  DietaryRestrictions_vegan DietaryRestrictions_kosher  \\\n",
       "0                        Na                         Na   \n",
       "1                        Na                         Na   \n",
       "2                        Na                         Na   \n",
       "3                        Na                         Na   \n",
       "4                        Na                         Na   \n",
       "\n",
       "  DietaryRestrictions_halal DietaryRestrictions_soy-free  \\\n",
       "0                        Na                           Na   \n",
       "1                        Na                           Na   \n",
       "2                        Na                           Na   \n",
       "3                        Na                           Na   \n",
       "4                        Na                           Na   \n",
       "\n",
       "  DietaryRestrictions_vegetarian AgesAllowed RestaurantsCounterService  \n",
       "0                             Na          Na                        Na  \n",
       "1                             Na          Na                        Na  \n",
       "2                             Na          Na                        Na  \n",
       "3                             Na          Na                        Na  \n",
       "4                             Na          Na                        Na  \n",
       "\n",
       "[5 rows x 70 columns]"
      ]
     },
     "execution_count": 91,
     "metadata": {},
     "output_type": "execute_result"
    }
   ],
   "source": [
    "#df = pd.read_csv(\"data/yelp/yelp_business_attributes.csv\")\n",
    "df.head()"
   ]
  },
  {
   "cell_type": "code",
   "execution_count": 96,
   "metadata": {},
   "outputs": [],
   "source": [
    "df.drop(columns=['BYOB', 'BYOBCorkage'], inplace=True)"
   ]
  },
  {
   "cell_type": "code",
   "execution_count": 101,
   "metadata": {},
   "outputs": [
    {
     "data": {
      "text/plain": [
       "array(['Na', 'False', 'True'], dtype=object)"
      ]
     },
     "execution_count": 101,
     "metadata": {},
     "output_type": "execute_result"
    }
   ],
   "source": [
    "df.NoiseLevel.unique()"
   ]
  },
  {
   "cell_type": "code",
   "execution_count": 104,
   "metadata": {},
   "outputs": [],
   "source": [
    "ta = pd.read_csv(\"data/tripadvisor/tripadvisor_in-restaurant_sample.csv\")"
   ]
  },
  {
   "cell_type": "code",
   "execution_count": 113,
   "metadata": {},
   "outputs": [
    {
     "name": "stdout",
     "output_type": "stream",
     "text": [
      "[nan '50 out of 50' '45 out of 50' '40 out of 50']\n",
      "['40 of 61' nan '24 of 53' ... '12,558 of 16,892' '4,644 of 16,899'\n",
      " '298 of 1,722']\n",
      "[nan 'Child-friendly' 'Outdoor seating' 'Child-friendly, Local cuisine'\n",
      " 'Romantic, Business, Local cuisine, Special Occasion Dining, Entertaining clients'\n",
      " 'Romantic, Business, Special Occasion Dining, Entertaining clients'\n",
      " 'Child-friendly, Special Occasion Dining' 'Child-friendly, Cheap Eats'\n",
      " 'Romantic, Business, Entertaining clients' 'Cheap Eats' 'Bar Scene'\n",
      " 'Outdoor seating, Entertaining clients'\n",
      " 'Groups, Business, Entertaining clients'\n",
      " 'Groups, Local cuisine, Cheap Eats' 'Bar Scene, Groups, Outdoor seating'\n",
      " 'View, Entertaining clients' 'Romantic, Special Occasion Dining'\n",
      " 'Local cuisine, Cheap Eats'\n",
      " 'Business, Local cuisine, Special Occasion Dining, Entertaining clients'\n",
      " 'Child-friendly, Groups' 'Bar Scene, Outdoor seating' 'Romantic'\n",
      " 'Entertaining clients'\n",
      " 'Romantic, Special Occasion Dining, Entertaining clients'\n",
      " 'Child-friendly, Groups, Special Occasion Dining, Entertaining clients'\n",
      " 'Bar Scene, Groups, Business, Entertaining clients'\n",
      " 'Romantic, Groups, Business, Local cuisine, Special Occasion Dining, Entertaining clients'\n",
      " 'Local cuisine, Outdoor seating' 'Romantic, Business, Outdoor seating'\n",
      " 'Child-friendly, Bar Scene, Local cuisine'\n",
      " 'Business, Special Occasion Dining' 'Romantic, Business'\n",
      " 'Child-friendly, Romantic, Business, Local cuisine, Outdoor seating'\n",
      " 'Local cuisine' 'Business, Outdoor seating'\n",
      " 'Business, Special Occasion Dining, Entertaining clients' 'Business'\n",
      " 'Child-friendly, Bar Scene, Local cuisine, Outdoor seating, Cheap Eats'\n",
      " 'Child-friendly, Local cuisine, Cheap Eats'\n",
      " 'Child-friendly, Romantic, Business, Entertaining clients'\n",
      " 'Child-friendly, Business, Outdoor seating'\n",
      " 'Romantic, Groups, Business, Entertaining clients'\n",
      " 'Romantic, Bar Scene, Business, Special Occasion Dining, Entertaining clients'\n",
      " 'Groups' 'Child-friendly, Groups, Local cuisine, Entertaining clients'\n",
      " 'Child-friendly, Bar Scene, Groups, Local cuisine, View, Cheap Eats'\n",
      " 'Child-friendly, Business, Entertaining clients'\n",
      " 'Child-friendly, Groups, Outdoor seating' 'Groups, Cheap Eats'\n",
      " 'Romantic, Groups, Business, Special Occasion Dining, Entertaining clients'\n",
      " 'Bar Scene, Groups' 'Child-friendly, Groups, Cheap Eats'\n",
      " 'Bar Scene, Groups, Cheap Eats' 'Child-friendly, Romantic'\n",
      " 'Romantic, Bar Scene, Business, Local cuisine, Entertaining clients'\n",
      " 'Romantic, Bar Scene, Groups, Business, Local cuisine, Special Occasion Dining, Entertaining clients'\n",
      " 'Romantic, Groups' 'Romantic, Bar Scene, Groups'\n",
      " 'Business, Local cuisine, Special Occasion Dining'\n",
      " 'Romantic, Local cuisine' 'Business, Entertaining clients'\n",
      " 'Bar Scene, Business, Local cuisine, Outdoor seating, Entertaining clients'\n",
      " 'Child-friendly, Outdoor seating'\n",
      " 'Child-friendly, Bar Scene, Groups, Business, Local cuisine, Outdoor seating'\n",
      " 'Groups, Business' 'Child-friendly, Groups, Local cuisine, View'\n",
      " 'Romantic, Bar Scene, Groups, Business, Outdoor seating, Special Occasion Dining'\n",
      " 'Child-friendly, Romantic, Local cuisine, Special Occasion Dining'\n",
      " 'Business, Local cuisine, Entertaining clients'\n",
      " 'Child-friendly, Romantic, Special Occasion Dining'\n",
      " 'Child-friendly, Bar Scene, Groups, Business, Entertaining clients'\n",
      " 'Child-friendly, Groups, Business, Outdoor seating'\n",
      " 'Child-friendly, Business'\n",
      " 'Child-friendly, Romantic, Groups, Entertaining clients'\n",
      " 'Child-friendly, Bar Scene, Groups'\n",
      " 'Romantic, Bar Scene, Special Occasion Dining'\n",
      " 'Romantic, Bar Scene, Groups, Outdoor seating, Special Occasion Dining, Entertaining clients'\n",
      " 'Bar Scene, Business, Special Occasion Dining'\n",
      " 'Bar Scene, Groups, Business, Special Occasion Dining, Entertaining clients'\n",
      " 'Groups, Business, Local cuisine, Entertaining clients, Cheap Eats'\n",
      " 'View'\n",
      " 'Romantic, Bar Scene, Groups, Business, Special Occasion Dining, View, Entertaining clients'\n",
      " 'Bar Scene, Local cuisine'\n",
      " 'Romantic, Groups, Special Occasion Dining, Entertaining clients'\n",
      " 'Child-friendly, Groups, Local cuisine, Cheap Eats'\n",
      " 'Groups, Business, Local cuisine'\n",
      " 'Outdoor seating, Special Occasion Dining'\n",
      " 'Romantic, Bar Scene, Groups, Entertaining clients'\n",
      " 'Child-friendly, Groups, Business, Local cuisine, Special Occasion Dining, Entertaining clients'\n",
      " 'Special Occasion Dining' 'Local cuisine, Entertaining clients'\n",
      " 'Child-friendly, Entertaining clients' 'Groups, Outdoor seating'\n",
      " 'Bar Scene, Local cuisine, Outdoor seating, View, Cheap Eats'\n",
      " 'Child-friendly, Groups, Entertaining clients, Cheap Eats'\n",
      " 'Child-friendly, Romantic, Groups, Business, Local cuisine, Special Occasion Dining, Entertaining clients'\n",
      " 'Romantic, Business, Local cuisine, View'\n",
      " 'Child-friendly, Romantic, Groups, Business, Special Occasion Dining, Entertaining clients, Cheap Eats'\n",
      " 'Italian restaurant in the heart of Frisco. Good hearty italian food with an great winelist. More upscale than a lot of the other restaurants in the little city. All a good visit. We had dinner for two on a Saturday night - pizza and pasta pared with a good wine.'\n",
      " 'Child-friendly, Romantic, Bar Scene, Groups, Business, Special Occasion Dining, Entertaining clients'\n",
      " 'Bar Scene, Entertaining clients' 'Child-friendly, Bar Scene'\n",
      " 'Romantic, Local cuisine, Outdoor seating, Special Occasion Dining, View, Entertaining clients'\n",
      " 'Child-friendly, Romantic, Business'\n",
      " 'Child-friendly, Local cuisine, Outdoor seating'\n",
      " 'Outdoor seating, Cheap Eats'\n",
      " 'Child-friendly, Local cuisine, Special Occasion Dining'\n",
      " 'Romantic, Bar Scene, Business, Local cuisine, Outdoor seating, Entertaining clients'\n",
      " 'Child-friendly, Romantic, Groups, Outdoor seating, Special Occasion Dining'\n",
      " 'Romantic, Outdoor seating, Special Occasion Dining'\n",
      " 'Romantic, Bar Scene, Local cuisine, Special Occasion Dining, Entertaining clients'\n",
      " 'Business, Local cuisine'\n",
      " 'Child-friendly, Business, Local cuisine, Outdoor seating'\n",
      " 'Romantic, Outdoor seating' 'Outdoor seating, View'\n",
      " 'Child-friendly, Romantic, Special Occasion Dining, Entertaining clients'\n",
      " 'Groups, Local cuisine'\n",
      " 'Romantic, Business, Local cuisine, Outdoor seating, Special Occasion Dining, Entertaining clients'\n",
      " 'Child-friendly, Groups, Local cuisine, Outdoor seating, Cheap Eats'\n",
      " 'Child-friendly, Groups, Business, Special Occasion Dining, Entertaining clients'\n",
      " 'Bar Scene, Groups, Special Occasion Dining, Entertaining clients'\n",
      " 'Romantic, Local cuisine, Outdoor seating, Special Occasion Dining'\n",
      " 'Good friends, Good food' 'Child-friendly, Romantic, Groups'\n",
      " 'Romantic, Local cuisine, Special Occasion Dining'\n",
      " 'Romantic, Groups, Special Occasion Dining'\n",
      " 'Child-friendly, Romantic, Business, Special Occasion Dining, Entertaining clients'\n",
      " 'Child-friendly, Bar Scene, Groups, Business, Local cuisine, Special Occasion Dining, Entertaining clients'\n",
      " 'Bar Scene, Groups, Business, Local cuisine, Entertaining clients'\n",
      " 'Child-friendly, Local cuisine, Special Occasion Dining, Entertaining clients'\n",
      " 'Bar Scene, Local cuisine, Outdoor seating, Entertaining clients'\n",
      " 'Romantic, Bar Scene, Business, Outdoor seating, Special Occasion Dining, Entertaining clients'\n",
      " 'Child-friendly, Local cuisine, Outdoor seating, Entertaining clients'\n",
      " 'Romantic, Groups, Local cuisine, Special Occasion Dining, Entertaining clients'\n",
      " 'Romantic, Entertaining clients' 'Child-friendly, Groups, Local cuisine'\n",
      " 'Child-friendly, Romantic, Groups, Special Occasion Dining'\n",
      " 'Child-friendly, Bar Scene, Groups, Local cuisine, Cheap Eats'\n",
      " 'Child-friendly, Groups, Local cuisine, Outdoor seating, Special Occasion Dining, Cheap Eats'\n",
      " 'Groups, Special Occasion Dining'\n",
      " 'Child-friendly, Bar Scene, Groups, Business, Local cuisine, Outdoor seating, Cheap Eats'\n",
      " 'Child-friendly, Groups, Outdoor seating, Cheap Eats'\n",
      " 'Romantic, Groups, Business, Special Occasion Dining'\n",
      " 'In Italy the sweet life flows like wine through the daily living of the people, down boulevards and generations, passed shops and squares and from fountains that grant you wishes. Little by little our wishes are coming true, to share the sweet life with friends who appreciate the charm and the elegance of Italy. The ancient Romans said life is short, art is long; we believe La Dolce Vita is an art. This is our motto at La Dolce Vita! Good food and great wine equals great company. From the time you arrive the ambience will take you away, you will feel as if you are in Trattoria in Italy. From our family to yours bon appetite! Saluti!'\n",
      " 'Child-friendly, Outdoor seating, Cheap Eats'\n",
      " 'Bar Scene, Groups, Local cuisine, Special Occasion Dining, Entertaining clients'\n",
      " 'Child-friendly, Groups, Business, Entertaining clients'\n",
      " 'Child-friendly, Romantic, Business, Local cuisine, Special Occasion Dining, Entertaining clients, Cheap Eats'\n",
      " 'Child-friendly, Romantic, Business, Local cuisine, Outdoor seating, Special Occasion Dining, View'\n",
      " 'Child-friendly, Groups, Local cuisine, Special Occasion Dining, Entertaining clients'\n",
      " 'Bar Scene, Local cuisine, Cheap Eats'\n",
      " 'Child-friendly, Romantic, Bar Scene, Groups, Business, Local cuisine, Outdoor seating, Special Occasion Dining, Entertaining clients'\n",
      " 'Bar Scene, Outdoor seating, Entertaining clients'\n",
      " 'Child-friendly, Romantic, Bar Scene, Groups, Business'\n",
      " 'Romantic, Bar Scene, Outdoor seating' 'Child-friendly, View'\n",
      " 'Special Occasion Dining, Entertaining clients'\n",
      " 'Good to Go Grocery is a fun and festive space offering natural and local products, catering to a variety of dietary needs, as well as craft beer & wine, homemade lunch items, fresh baked goods, smoothies, and espresso beverages. A seating area is also available, with a view of the Strait of Juan de Fuca and Canada.'\n",
      " 'Groups, View, Entertaining clients'\n",
      " 'Child-friendly, Romantic, Bar Scene, Groups, Outdoor seating, Special Occasion Dining'\n",
      " 'Child-friendly, Romantic, Local cuisine'\n",
      " 'Child-friendly, Groups, Business, Outdoor seating, Cheap Eats'\n",
      " 'Romantic, Local cuisine, Outdoor seating, Special Occasion Dining, Entertaining clients'\n",
      " 'Child-friendly, Bar Scene, Outdoor seating' 'Bar Scene, Cheap Eats'\n",
      " \"Restaurant pen at 6am daily, a 200 seat restaurant that offers daily food specials. Good food and great service is what you'll get!\"\n",
      " 'Romantic, Local cuisine, Special Occasion Dining, Entertaining clients'\n",
      " 'Child-friendly, Business, Local cuisine, Cheap Eats'\n",
      " 'Child-friendly, Romantic, Bar Scene, Groups, Business, Local cuisine, Special Occasion Dining, Entertaining clients'\n",
      " 'Romantic, Bar Scene, Special Occasion Dining, View'\n",
      " 'Child-friendly, Groups, Local cuisine, Special Occasion Dining'\n",
      " 'Child-friendly, Bar Scene, Groups, Local cuisine'\n",
      " 'Child-friendly, Romantic, Bar Scene, Groups, Local cuisine, Special Occasion Dining, View'\n",
      " 'Child-friendly, Groups, Local cuisine, Outdoor seating, Special Occasion Dining, View, Entertaining clients'\n",
      " 'Bar Scene, Special Occasion Dining' 'View, Cheap Eats'\n",
      " 'Child-friendly, Romantic, Groups, Business, Special Occasion Dining, Entertaining clients'\n",
      " 'Child-friendly, Romantic, Cheap Eats'\n",
      " 'Reservations, Dessert, Late Night, Out door Dining, Private or Semi Private dining available for large groups'\n",
      " 'Child-friendly, Romantic, Bar Scene, Groups, Local cuisine, Outdoor seating, Special Occasion Dining, Entertaining clients'\n",
      " 'Child-friendly, Groups, Outdoor seating, Entertaining clients'\n",
      " 'Child-friendly, Business, Local cuisine'\n",
      " \"Lili's Catch of the Day- The Fresh Fish & Seafood Place. OPEN NOW!Mom and pop establishment. Fresh fish every day and all cooked to order! Oysters, ceviche, stone crabs (in season). Casual setting. Great lunch spot, fish sandwiches, homemade soups. Good beer Selection. Mix of American and Cuban-style food. Live music on occasion.\"\n",
      " 'Romantic, Business, Cheap Eats'\n",
      " 'Bar Scene, Business, Outdoor seating, Special Occasion Dining'\n",
      " 'Romantic, Bar Scene, Groups, Local cuisine, Special Occasion Dining, Entertaining clients'\n",
      " 'Child-friendly, Groups, Business, Entertaining clients, Cheap Eats'\n",
      " 'Romantic, Bar Scene, Local cuisine, Cheap Eats'\n",
      " 'Child-friendly, Bar Scene, Groups, Local cuisine, Entertaining clients'\n",
      " 'Child-friendly, Romantic, Outdoor seating, View'\n",
      " 'Romantic, Bar Scene, Outdoor seating, View'\n",
      " 'Bar Scene, Groups, Business' 'Romantic, Groups, Business'\n",
      " 'Child-friendly, Bar Scene, Business, Entertaining clients'\n",
      " 'Child-friendly, Bar Scene, Groups, Business, Local cuisine, Entertaining clients, Cheap Eats'\n",
      " 'Child-friendly, Romantic, Groups, Business, Local cuisine, Outdoor seating, Special Occasion Dining, Cheap Eats'\n",
      " 'Bar Scene, Groups, Local cuisine, Outdoor seating'\n",
      " 'Romantic, Bar Scene, Local cuisine, Outdoor seating, Special Occasion Dining'\n",
      " 'Child-friendly, Romantic, Local cuisine, Outdoor seating'\n",
      " 'Child-friendly, Romantic, Groups, Cheap Eats'\n",
      " 'Groups, Business, Special Occasion Dining'\n",
      " 'Bar Scene, Groups, Business, Local cuisine, Outdoor seating'\n",
      " 'Child-friendly, Romantic, Business, Local cuisine'\n",
      " 'Groups, Outdoor seating, View'\n",
      " 'Child-friendly, Romantic, Outdoor seating'\n",
      " 'Romantic, Business, Special Occasion Dining'\n",
      " 'Child-friendly, Romantic, Groups, Business'\n",
      " 'Child-friendly, Romantic, Business, Local cuisine, Special Occasion Dining, Entertaining clients'\n",
      " 'Romantic, Bar Scene, Groups, Outdoor seating'\n",
      " 'Child-friendly, Romantic, View'\n",
      " 'Romantic, Bar Scene, Business, Outdoor seating, Cheap Eats'\n",
      " 'Child-friendly, Romantic, Bar Scene, Groups'\n",
      " 'Child-friendly, Groups, Local cuisine, Special Occasion Dining, Entertaining clients, Cheap Eats'\n",
      " 'Romantic, View' 'Bar Scene, Groups, Business, Local cuisine, Cheap Eats'\n",
      " 'Child-friendly, Romantic, Groups, Special Occasion Dining, Cheap Eats'\n",
      " 'Child-friendly, Groups, Local cuisine, Entertaining clients, Cheap Eats'\n",
      " 'Romantic, Bar Scene, Groups, Special Occasion Dining'\n",
      " 'Groups, Entertaining clients'\n",
      " 'Child-friendly, Romantic, Groups, Business, Local cuisine, Outdoor seating, Special Occasion Dining'\n",
      " 'Child-friendly, Romantic, Groups, Business, Entertaining clients'\n",
      " 'Child-friendly, Special Occasion Dining, Cheap Eats'\n",
      " 'Bar Scene, Groups, Special Occasion Dining'\n",
      " 'Electric Bikes, Solar-ovens, Hydroponic Towers, Recycled Purses, Bamboo & Hemp Clothing, Eco Toiletries, & Eco Cleaning Supplies.'\n",
      " 'Romantic, Groups, Business, Local cuisine, Outdoor seating, Special Occasion Dining, View'\n",
      " 'Romantic, Bar Scene, Entertaining clients'\n",
      " 'Local cuisine, Special Occasion Dining'\n",
      " 'Child-friendly, Romantic, Local cuisine, Special Occasion Dining, Entertaining clients'\n",
      " 'Romantic, Outdoor seating, Cheap Eats'\n",
      " 'Business, Local cuisine, Outdoor seating, Special Occasion Dining, Entertaining clients'\n",
      " 'high quality steaks and venison, excellent calamari and duck pancakes. Good service, excellent wine list and mains under $30.'\n",
      " 'Child-friendly, Local cuisine, Outdoor seating, Cheap Eats'\n",
      " 'Child-friendly, Romantic, Special Occasion Dining, Cheap Eats'\n",
      " 'Romantic, Bar Scene, Local cuisine, Special Occasion Dining'\n",
      " 'Groups, Special Occasion Dining, Entertaining clients'\n",
      " 'The Verandah has won the \"BEST in SCOTLAND\" by Pat Chapman\\'s Cobra Good Curry Guide 2013.The Verandah offers the finest, authentic Bangladeshi & Indian cuisine in a stylish, comfortable setting, with high quality service and value for money that is second to none. Visited by Sir Cliff Richard, Clint Eastwood and many others.'\n",
      " 'Bar Scene, Business'\n",
      " 'Romantic, Bar Scene, Business, Local cuisine, Special Occasion Dining, Entertaining clients, Cheap Eats'\n",
      " \"Reservations, Delivery and collection In London's West Hendon ,Afghan Restaurant offers Good Afghan cuisine in warm,testy stylish surroundings. Blending modern and traditional design, afghan Res features authentic Afghan dining. Stylish and inviting, the cosy interior features accents of Black Waite furniture and contemporary decor. The atmosphere is warm and welcoming.\"\n",
      " 'Child-friendly, Bar Scene, Groups, Special Occasion Dining, Entertaining clients, Cheap Eats'\n",
      " 'Child-friendly, Romantic, Groups, Business, Special Occasion Dining'\n",
      " 'Child-friendly, Romantic, Groups, Business, Local cuisine, Special Occasion Dining'\n",
      " 'Child-friendly, Groups, Special Occasion Dining'\n",
      " 'The Hangover Club is a Saturday brunch club in residency at The Yard theatre space which is converted warehouse in the heart of Hackney Wick, a stones throw from the canal and Queen Elizabeth Olympic Park. Serving brunch from 10 until 4 with our food partner The Good Egg- think Steak & Eggs, Shakshuka and breakfast Burritos, plus our detox or retox drinks list which will satisfy any palette.'\n",
      " 'Child-friendly, Romantic, Groups, Special Occasion Dining, Entertaining clients, Cheap Eats'\n",
      " 'Child-friendly, Business, Local cuisine, Special Occasion Dining, Entertaining clients, Cheap Eats']\n",
      "[nan 'Certificate of Excellence 2014']\n",
      "[nan]\n"
     ]
    }
   ],
   "source": [
    "print(ta.Rating.unique())\n",
    "print(ta.Ranking.unique())\n",
    "print(ta['Good for(suitable)'].unique())\n",
    "print(ta.Award.unique())\n",
    "print(ta.Recommended.unique())"
   ]
  },
  {
   "cell_type": "code",
   "execution_count": 116,
   "metadata": {},
   "outputs": [
    {
     "data": {
      "text/plain": [
       "array([nan])"
      ]
     },
     "execution_count": 116,
     "metadata": {},
     "output_type": "execute_result"
    }
   ],
   "source": [
    "ta.Menu.unique()"
   ]
  },
  {
   "cell_type": "markdown",
   "metadata": {},
   "source": [
    "# find latest timestamp in Yelp dataset\n",
    "### Try tips.json (2009-04-15,  2017-12-11)"
   ]
  },
  {
   "cell_type": "code",
   "execution_count": 80,
   "metadata": {},
   "outputs": [
    {
     "name": "stdout",
     "output_type": "stream",
     "text": [
      "\n",
      "2009-04-15 2017-12-11\n"
     ]
    }
   ],
   "source": [
    "import re\n",
    "\n",
    "json = \"\"\n",
    "with open(\"data/yelp2/tip.json\") as file:\n",
    "    json = file.read()\n",
    "    \n",
    "regex = re.compile(r'[{}]|(\"[\\w]*\":)|\\\\', re.IGNORECASE)\n",
    "\n",
    "def format_str(regex, string):\n",
    "    return regex.sub(\"\", string)\n",
    "\n",
    "items = json.split(\"\\n\")\n",
    "csv = [format_str(regex, row) for row in items]\n",
    "\n",
    "regex2 = re.compile(\".*(\\d{4}-\\d{2}-\\d{2}).*\")\n",
    "dates = set()\n",
    "for row in csv:\n",
    "    m = regex2.match(row)\n",
    "    if m:\n",
    "        dates.add(m.group(1))\n",
    "    else:\n",
    "        print(row)\n",
    "        \n",
    "dates = sorted(list(dates))\n",
    "print(dates[0], dates[-1])"
   ]
  },
  {
   "cell_type": "code",
   "execution_count": null,
   "metadata": {},
   "outputs": [],
   "source": [
    "json = \"\"\n",
    "with open(\"data/yelp2/\")"
   ]
  },
  {
   "cell_type": "markdown",
   "metadata": {},
   "source": [
    "# find latest timestamp in Kaggle dataset\n",
    "select date from yelp_reviews_1 order by date asc limit 1;\n",
    "    date    \n",
    "------------\n",
    " 2004-07-22\n",
    "(1 row)\n",
    "\n",
    "select date from yelp_reviews_1 order by date desc limit 1;\n",
    "    date    \n",
    "------------\n",
    " 2017-12-11\n",
    "(1 row)"
   ]
  },
  {
   "cell_type": "code",
   "execution_count": null,
   "metadata": {},
   "outputs": [],
   "source": []
  }
 ],
 "metadata": {
  "kernelspec": {
   "display_name": "Python 3",
   "language": "python",
   "name": "python3"
  },
  "language_info": {
   "codemirror_mode": {
    "name": "ipython",
    "version": 3
   },
   "file_extension": ".py",
   "mimetype": "text/x-python",
   "name": "python",
   "nbconvert_exporter": "python",
   "pygments_lexer": "ipython3",
   "version": "3.6.5"
  }
 },
 "nbformat": 4,
 "nbformat_minor": 2
}
