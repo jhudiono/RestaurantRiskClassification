{
 "cells": [
  {
   "cell_type": "markdown",
   "metadata": {},
   "source": [
    "## Perform basic cleaning on Yelp Dataset 8 and write to SQL table.\n",
    "* Turn json objects into rows. \n",
    "* Discard non-restaurant rows.\n",
    "* Convert to pandas dataframe. \n",
    "* Write dataframe to SQL table. "
   ]
  },
  {
   "cell_type": "code",
   "execution_count": 1,
   "metadata": {},
   "outputs": [],
   "source": [
    "import json\n",
    "import pandas as pd\n",
    "import psycopg2\n",
    "import sqlalchemy\n",
    "import logging\n",
    "\n",
    "from sqlalchemy import create_engine, inspect\n",
    "\n",
    "PSQL = 'postgres://{}@localhost:5432/rpred'\n",
    "\n",
    "logging.basicConfig(level=logging.INFO)"
   ]
  },
  {
   "cell_type": "code",
   "execution_count": 3,
   "metadata": {},
   "outputs": [],
   "source": [
    "# Yelp's json files are screwy, so I have to fix them a little bit.\n",
    "# {}{}{}{} --> [{},{},{},{}]\n",
    "# Then discard anything that isn't a restaurant. \n",
    "def clean_restaurant_json(filename):\n",
    "    logging.info('Reading {}'.format(filename))\n",
    "    json_str = \"\"\n",
    "    with open(filename, \"r\") as file1:\n",
    "        json_str = file1.read()\n",
    "    items = []\n",
    "    len_json = len(json_str.split(\"\\n\"))\n",
    "    for row in json_str.split(\"\\n\"):\n",
    "        try:\n",
    "            row = json.loads(row)\n",
    "        except:\n",
    "            logging.info(\"Unable to decode item: {}\".format(row))\n",
    "            continue\n",
    "        #if \"Restaurants\" in row['categories']:\n",
    "        #    items.append(row)\n",
    "        if is_restaurant(row):\n",
    "            items.append(row)\n",
    "    logging.info('{} valid items out of {}'.format(len(items), len_json))\n",
    "    return items\n",
    "    #return [json.loads(i) for i in items]\n",
    "\n",
    "def is_restaurant(row):\n",
    "    arr = row['categories']\n",
    "    return (\"Restaurants\" in arr or \"Food\" in arr or \n",
    "            \"Cafe\" in arr or \"Bakeries\" in arr) and (\"Grocery\" not in arr)\n",
    "\n",
    "def get_sql_connect(cred_path=\"../credentials/localhost/jessica.txt\"):\n",
    "    cred = \"\"\n",
    "    with open(cred_path) as file:\n",
    "        cred = file.read().strip(\"\\n\")\n",
    "    \n",
    "    cnx = create_engine(PSQL.format(cred), isolation_level='AUTOCOMMIT')\n",
    "    return cnx\n",
    "\n",
    "def write_to_sql(df, table_name, cnx):\n",
    "    logging.info('Sample row:')\n",
    "    logging.info(str(df.sample(1)))\n",
    "    logging.info('Write data to table {}'.format(table_name))\n",
    "    df.to_sql(table_name, cnx, if_exists='replace', index=False, \n",
    "        dtype={'attributes' : sqlalchemy.types.JSON, 'hours' : sqlalchemy.types.JSON})\n",
    "    logging.info('Done!')\n",
    "    \n",
    "cnx = get_sql_connect()"
   ]
  },
  {
   "cell_type": "code",
   "execution_count": 4,
   "metadata": {
    "scrolled": false
   },
   "outputs": [
    {
     "name": "stderr",
     "output_type": "stream",
     "text": [
      "INFO:root:Reading ../data/yelp8/yelp_academic_dataset_business.json\n",
      "INFO:root:Unable to decode item: \n",
      "INFO:root:32978 valid items out of 85902\n",
      "INFO:root:Sample row:\n",
      "INFO:root:                                             attributes  \\\n",
      "6066  {'Alcohol': 'full_bar', 'Takes Reservations': ...   \n",
      "\n",
      "                 business_id  \\\n",
      "6066  WbAkmFYQr57zHz0Mjmj2sg   \n",
      "\n",
      "                                             categories       city  \\\n",
      "6066  [Bars, Pool Halls, Nightlife, American (New), ...  Las Vegas   \n",
      "\n",
      "                                           full_address  \\\n",
      "6066  5025 S Eastern Ave\\nSoutheast\\nLas Vegas, NV 8...   \n",
      "\n",
      "                                                  hours   latitude  \\\n",
      "6066  {'Monday': {'close': '00:00', 'open': '00:00'}...  36.097945   \n",
      "\n",
      "       longitude                  name neighborhoods  open  review_count  \\\n",
      "6066 -115.119864  Putter's Bar & Grill   [Southeast]  True             3   \n",
      "\n",
      "      stars state      type  \n",
      "6066    2.5    NV  business  \n",
      "INFO:root:Write data to table yelp_8\n",
      "INFO:root:Done!\n"
     ]
    }
   ],
   "source": [
    "yelp_arr = clean_restaurant_json(\"../data/yelp8/yelp_academic_dataset_business.json\")\n",
    "\n",
    "df_features = pd.DataFrame(yelp_arr)\n",
    "df_features.head()\n",
    "\n",
    "write_to_sql(df_features, 'yelp_8', cnx)"
   ]
  },
  {
   "cell_type": "markdown",
   "metadata": {},
   "source": [
    "## Perform basic cleaning on Yelp Dataset 11 and write to SQL table.\n",
    "* Turn json objects into rows. \n",
    "* Discard non-restaurant rows.\n",
    "* Convert to pandas dataframe. \n",
    "* Write dataframe to SQL table. "
   ]
  },
  {
   "cell_type": "code",
   "execution_count": 5,
   "metadata": {},
   "outputs": [
    {
     "name": "stderr",
     "output_type": "stream",
     "text": [
      "INFO:root:Reading ../data/yelp11/business.json\n",
      "INFO:root:Unable to decode item: \n",
      "INFO:root:65800 valid items out of 174568\n",
      "INFO:root:Sample row:\n",
      "INFO:root:                      address  \\\n",
      "18277  12900 W Thunderbird Rd   \n",
      "\n",
      "                                              attributes  \\\n",
      "18277  {'GoodForMeal': {'dessert': False, 'latenight'...   \n",
      "\n",
      "                  business_id                         categories       city  \\\n",
      "18277  umdGWFEra3Bkeo2wbTNz4A  [Restaurants, Fast Food, Burgers]  El Mirage   \n",
      "\n",
      "                                                   hours  is_open   latitude  \\\n",
      "18277  {'Monday': '5:00-23:00', 'Tuesday': '5:00-23:0...        1  33.610633   \n",
      "\n",
      "        longitude        name neighborhood postal_code  review_count  stars  \\\n",
      "18277 -112.337106  McDonald's                    85335             4    2.0   \n",
      "\n",
      "      state  \n",
      "18277    AZ  \n",
      "INFO:root:Write data to table yelp_11\n",
      "INFO:root:Done!\n"
     ]
    }
   ],
   "source": [
    "yelp_target_arr = clean_restaurant_json(\"../data/yelp11/business.json\")\n",
    "\n",
    "df_target = pd.DataFrame(yelp_target_arr)\n",
    "\n",
    "write_to_sql(df_target, 'yelp_11', cnx)"
   ]
  },
  {
   "cell_type": "code",
   "execution_count": null,
   "metadata": {},
   "outputs": [],
   "source": []
  }
 ],
 "metadata": {
  "kernelspec": {
   "display_name": "Python 3",
   "language": "python",
   "name": "python3"
  },
  "language_info": {
   "codemirror_mode": {
    "name": "ipython",
    "version": 3
   },
   "file_extension": ".py",
   "mimetype": "text/x-python",
   "name": "python",
   "nbconvert_exporter": "python",
   "pygments_lexer": "ipython3",
   "version": "3.6.5"
  }
 },
 "nbformat": 4,
 "nbformat_minor": 2
}
