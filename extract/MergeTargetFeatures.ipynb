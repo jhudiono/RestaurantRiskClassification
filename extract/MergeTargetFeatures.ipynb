{
 "cells": [
  {
   "cell_type": "code",
   "execution_count": 64,
   "metadata": {},
   "outputs": [],
   "source": [
    "import glob\n",
    "import numpy as np\n",
    "import pandas as pd\n",
    "import psycopg2\n",
    "\n",
    "from fuzzywuzzy import fuzz\n",
    "from sklearn_pandas import DataFrameMapper\n",
    "from sklearn.preprocessing import LabelBinarizer\n",
    "from sqlalchemy import create_engine, inspect\n",
    "\n",
    "PSQL = 'postgres://{}@localhost:5432/rpred'\n",
    "\n",
    "files = glob.glob(\"data/target_matching/*.csv\")"
   ]
  },
  {
   "cell_type": "markdown",
   "metadata": {},
   "source": [
    "Extract target data:\n",
    "* Load feature table (full address).\n",
    "* Load target table (partial address).\n",
    "* Create name_addr column (business name + address) for each table.\n",
    "* Match partial name_addr to full name_addr with fuzzywuzzy.\n",
    "* Map full name_addr to target table.\n",
    "* Save to Postgres and CSV."
   ]
  },
  {
   "cell_type": "code",
   "execution_count": 66,
   "metadata": {},
   "outputs": [],
   "source": [
    "def match(full_addr, addr, threshold=70):\n",
    "    return fuzz.partial_ratio(full_addr, addr) > threshold;"
   ]
  },
  {
   "cell_type": "code",
   "execution_count": 67,
   "metadata": {},
   "outputs": [],
   "source": [
    "cred = \"\"\n",
    "with open(\"credentials/localhost/jessica.txt\") as credfile:\n",
    "    cred = credfile.read().strip(\"\\n\")\n",
    "    \n",
    "cnx = create_engine(PSQL.format(cred), isolation_level='AUTOCOMMIT')\n",
    "\n",
    "y = pd.read_sql_query(\n",
    "    '''SELECT name, address, is_open FROM yelp_dataset_11 ORDER BY name''', cnx)\n",
    "X = pd.read_sql_query(\n",
    "    '''SELECT name, full_address FROM yelp_dataset_8 ORDER BY name''', cnx)"
   ]
  },
  {
   "cell_type": "code",
   "execution_count": 68,
   "metadata": {
    "scrolled": true
   },
   "outputs": [
    {
     "data": {
      "text/html": [
       "<div>\n",
       "<style scoped>\n",
       "    .dataframe tbody tr th:only-of-type {\n",
       "        vertical-align: middle;\n",
       "    }\n",
       "\n",
       "    .dataframe tbody tr th {\n",
       "        vertical-align: top;\n",
       "    }\n",
       "\n",
       "    .dataframe thead th {\n",
       "        text-align: right;\n",
       "    }\n",
       "</style>\n",
       "<table border=\"1\" class=\"dataframe\">\n",
       "  <thead>\n",
       "    <tr style=\"text-align: right;\">\n",
       "      <th></th>\n",
       "      <th>name</th>\n",
       "      <th>full_address</th>\n",
       "      <th>name_addr</th>\n",
       "    </tr>\n",
       "  </thead>\n",
       "  <tbody>\n",
       "    <tr>\n",
       "      <th>0</th>\n",
       "      <td>1000 Grammes</td>\n",
       "      <td>1495 Rue Sainte-Catherine East Ville-Marie Mon...</td>\n",
       "      <td>1000 Grammes 1495 Rue Sainte-Catherine East Vi...</td>\n",
       "    </tr>\n",
       "    <tr>\n",
       "      <th>1</th>\n",
       "      <td>108 Chinese Take Away</td>\n",
       "      <td>108 Portobello High Street Edinburgh EH15 1AL</td>\n",
       "      <td>108 Chinese Take Away 108 Portobello High Stre...</td>\n",
       "    </tr>\n",
       "    <tr>\n",
       "      <th>2</th>\n",
       "      <td>10-to-10 In Delhi</td>\n",
       "      <td>67 Nicolson Street Newington Edinburgh EH8 9BZ</td>\n",
       "      <td>10-to-10 In Delhi 67 Nicolson Street Newington...</td>\n",
       "    </tr>\n",
       "    <tr>\n",
       "      <th>3</th>\n",
       "      <td>12 East Cafe</td>\n",
       "      <td>1153 E Jefferson St Phoenix  AZ 85034</td>\n",
       "      <td>12 East Cafe 1153 E Jefferson St Phoenix  AZ 8...</td>\n",
       "    </tr>\n",
       "    <tr>\n",
       "      <th>4</th>\n",
       "      <td>168 Market</td>\n",
       "      <td>3459 S Jones Blvd Chinatown Las Vegas  NV 89146</td>\n",
       "      <td>168 Market 3459 S Jones Blvd Chinatown Las Veg...</td>\n",
       "    </tr>\n",
       "  </tbody>\n",
       "</table>\n",
       "</div>"
      ],
      "text/plain": [
       "                    name                                       full_address  \\\n",
       "0           1000 Grammes  1495 Rue Sainte-Catherine East Ville-Marie Mon...   \n",
       "1  108 Chinese Take Away      108 Portobello High Street Edinburgh EH15 1AL   \n",
       "2      10-to-10 In Delhi     67 Nicolson Street Newington Edinburgh EH8 9BZ   \n",
       "3           12 East Cafe              1153 E Jefferson St Phoenix  AZ 85034   \n",
       "4             168 Market    3459 S Jones Blvd Chinatown Las Vegas  NV 89146   \n",
       "\n",
       "                                           name_addr  \n",
       "0  1000 Grammes 1495 Rue Sainte-Catherine East Vi...  \n",
       "1  108 Chinese Take Away 108 Portobello High Stre...  \n",
       "2  10-to-10 In Delhi 67 Nicolson Street Newington...  \n",
       "3  12 East Cafe 1153 E Jefferson St Phoenix  AZ 8...  \n",
       "4  168 Market 3459 S Jones Blvd Chinatown Las Veg...  "
      ]
     },
     "execution_count": 68,
     "metadata": {},
     "output_type": "execute_result"
    }
   ],
   "source": [
    "X['full_address'] = X['full_address'].apply(lambda s: s.replace(\"\\n\", \" \"))\n",
    "X['name_addr'] = X['name'] + \" \" + X['full_address']\n",
    "X.head()"
   ]
  },
  {
   "cell_type": "code",
   "execution_count": 69,
   "metadata": {
    "scrolled": true
   },
   "outputs": [
    {
     "data": {
      "text/html": [
       "<div>\n",
       "<style scoped>\n",
       "    .dataframe tbody tr th:only-of-type {\n",
       "        vertical-align: middle;\n",
       "    }\n",
       "\n",
       "    .dataframe tbody tr th {\n",
       "        vertical-align: top;\n",
       "    }\n",
       "\n",
       "    .dataframe thead th {\n",
       "        text-align: right;\n",
       "    }\n",
       "</style>\n",
       "<table border=\"1\" class=\"dataframe\">\n",
       "  <thead>\n",
       "    <tr style=\"text-align: right;\">\n",
       "      <th></th>\n",
       "      <th>name</th>\n",
       "      <th>address</th>\n",
       "      <th>is_open</th>\n",
       "      <th>name_addr</th>\n",
       "    </tr>\n",
       "  </thead>\n",
       "  <tbody>\n",
       "    <tr>\n",
       "      <th>0</th>\n",
       "      <td>00 Gelato</td>\n",
       "      <td>370 King Street W</td>\n",
       "      <td>1</td>\n",
       "      <td>00 Gelato 370 King Street W</td>\n",
       "    </tr>\n",
       "    <tr>\n",
       "      <th>1</th>\n",
       "      <td>0109 Dessert &amp; Chocolate</td>\n",
       "      <td>2190 McNicoll Avenue  Unit 109</td>\n",
       "      <td>1</td>\n",
       "      <td>0109 Dessert &amp; Chocolate 2190 McNicoll Avenue ...</td>\n",
       "    </tr>\n",
       "    <tr>\n",
       "      <th>2</th>\n",
       "      <td>1000 Grammes</td>\n",
       "      <td>1495 Rue Sainte-Catherine East</td>\n",
       "      <td>1</td>\n",
       "      <td>1000 Grammes 1495 Rue Sainte-Catherine East</td>\n",
       "    </tr>\n",
       "    <tr>\n",
       "      <th>3</th>\n",
       "      <td>101 Bottles of Beer On the Wall</td>\n",
       "      <td>115 N Willow St</td>\n",
       "      <td>1</td>\n",
       "      <td>101 Bottles of Beer On the Wall 115 N Willow St</td>\n",
       "    </tr>\n",
       "    <tr>\n",
       "      <th>4</th>\n",
       "      <td>108 Chinese Take Away</td>\n",
       "      <td>108 Portobello High Street</td>\n",
       "      <td>1</td>\n",
       "      <td>108 Chinese Take Away 108 Portobello High Street</td>\n",
       "    </tr>\n",
       "  </tbody>\n",
       "</table>\n",
       "</div>"
      ],
      "text/plain": [
       "                              name                         address  is_open  \\\n",
       "0                        00 Gelato               370 King Street W        1   \n",
       "1         0109 Dessert & Chocolate  2190 McNicoll Avenue  Unit 109        1   \n",
       "2                     1000 Grammes  1495 Rue Sainte-Catherine East        1   \n",
       "3  101 Bottles of Beer On the Wall                 115 N Willow St        1   \n",
       "4            108 Chinese Take Away      108 Portobello High Street        1   \n",
       "\n",
       "                                           name_addr  \n",
       "0                        00 Gelato 370 King Street W  \n",
       "1  0109 Dessert & Chocolate 2190 McNicoll Avenue ...  \n",
       "2        1000 Grammes 1495 Rue Sainte-Catherine East  \n",
       "3    101 Bottles of Beer On the Wall 115 N Willow St  \n",
       "4   108 Chinese Take Away 108 Portobello High Street  "
      ]
     },
     "execution_count": 69,
     "metadata": {},
     "output_type": "execute_result"
    }
   ],
   "source": [
    "y['name_addr'] = y['name'] + \" \" + y['address']\n",
    "y.head()"
   ]
  },
  {
   "cell_type": "code",
   "execution_count": 74,
   "metadata": {},
   "outputs": [
    {
     "name": "stdout",
     "output_type": "stream",
     "text": [
      "full: ('1000 Grammes 1495 Rue Sainte-Catherine East Ville-Marie Montréal  QC H2L 2H9', '1495 Rue Sainte-Catherine East Ville-Marie Montréal  QC H2L 2H9')\n",
      "partial: ('00 Gelato 370 King Street W', '370 King Street W')\n"
     ]
    }
   ],
   "source": [
    "full_dict = X.set_index('name_addr').to_dict(orient='dict')['full_address']\n",
    "partial_dict = y.set_index('name_addr').to_dict(orient='dict')['address']\n",
    "print(\"full:\", list(full_dict.items())[0])\n",
    "print(\"partial:\", list(partial_dict.items())[0])"
   ]
  },
  {
   "cell_type": "code",
   "execution_count": 76,
   "metadata": {
    "scrolled": false
   },
   "outputs": [
    {
     "name": "stdout",
     "output_type": "stream",
     "text": [
      "12806 matched\n",
      "15341 full addresses remaining\n",
      "33967 partial addresses remaining\n"
     ]
    }
   ],
   "source": [
    "matched = {}\n",
    "partial_keys = sorted(list(partial.keys()))\n",
    "full_keys = sorted(list(full.keys()))\n",
    "\n",
    "partial = partial_keys.pop()\n",
    "full = full_keys.pop()\n",
    "# Iterate until run out of addresses to match.\n",
    "while partial_keys and full_keys:\n",
    "    if match(full, partial, 90):\n",
    "        matched[partial] = full\n",
    "        partial = partial_keys.pop()\n",
    "        full = full_keys.pop()\n",
    "    elif partial < full:\n",
    "        full = full_keys.pop()\n",
    "    else:\n",
    "        partial = partial_keys.pop()\n",
    "print(len(matched), \"matched\")\n",
    "print(len(full_dict), \"full addresses remaining\")\n",
    "print(len(partial_dict), \"partial addresses remaining\")"
   ]
  },
  {
   "cell_type": "code",
   "execution_count": 85,
   "metadata": {},
   "outputs": [],
   "source": [
    "str1 = \"\\n\".join([\"{},{}\".format(i[0], i[1]) for i in matched.items()])\n",
    "with open(\"data/target_matching/address_map.csv\", \"w\") as file:\n",
    "    file.write(str1)"
   ]
  },
  {
   "cell_type": "code",
   "execution_count": 81,
   "metadata": {
    "scrolled": true
   },
   "outputs": [
    {
     "data": {
      "text/html": [
       "<div>\n",
       "<style scoped>\n",
       "    .dataframe tbody tr th:only-of-type {\n",
       "        vertical-align: middle;\n",
       "    }\n",
       "\n",
       "    .dataframe tbody tr th {\n",
       "        vertical-align: top;\n",
       "    }\n",
       "\n",
       "    .dataframe thead th {\n",
       "        text-align: right;\n",
       "    }\n",
       "</style>\n",
       "<table border=\"1\" class=\"dataframe\">\n",
       "  <thead>\n",
       "    <tr style=\"text-align: right;\">\n",
       "      <th></th>\n",
       "      <th>name</th>\n",
       "      <th>address</th>\n",
       "      <th>is_open</th>\n",
       "      <th>name_addr</th>\n",
       "      <th>full_name_addr</th>\n",
       "    </tr>\n",
       "  </thead>\n",
       "  <tbody>\n",
       "    <tr>\n",
       "      <th>2</th>\n",
       "      <td>1000 Grammes</td>\n",
       "      <td>1495 Rue Sainte-Catherine East</td>\n",
       "      <td>1</td>\n",
       "      <td>1000 Grammes 1495 Rue Sainte-Catherine East</td>\n",
       "      <td>1000 Grammes 1495 Rue Sainte-Catherine East Vi...</td>\n",
       "    </tr>\n",
       "    <tr>\n",
       "      <th>4</th>\n",
       "      <td>108 Chinese Take Away</td>\n",
       "      <td>108 Portobello High Street</td>\n",
       "      <td>1</td>\n",
       "      <td>108 Chinese Take Away 108 Portobello High Street</td>\n",
       "      <td>108 Chinese Take Away 108 Portobello High Stre...</td>\n",
       "    </tr>\n",
       "    <tr>\n",
       "      <th>8</th>\n",
       "      <td>12 East Cafe</td>\n",
       "      <td>1153 E Jefferson St</td>\n",
       "      <td>0</td>\n",
       "      <td>12 East Cafe 1153 E Jefferson St</td>\n",
       "      <td>12 East Cafe 1153 E Jefferson St Phoenix  AZ 8...</td>\n",
       "    </tr>\n",
       "    <tr>\n",
       "      <th>11</th>\n",
       "      <td>168 Market</td>\n",
       "      <td>3459 S Jones Blvd</td>\n",
       "      <td>1</td>\n",
       "      <td>168 Market 3459 S Jones Blvd</td>\n",
       "      <td>168 Market 3459 S Jones Blvd Chinatown Las Veg...</td>\n",
       "    </tr>\n",
       "    <tr>\n",
       "      <th>12</th>\n",
       "      <td>17th Street Cafe</td>\n",
       "      <td>75 S 17th St</td>\n",
       "      <td>0</td>\n",
       "      <td>17th Street Cafe 75 S 17th St</td>\n",
       "      <td>17th Street Cafe 75 S 17th St South Side Pitts...</td>\n",
       "    </tr>\n",
       "  </tbody>\n",
       "</table>\n",
       "</div>"
      ],
      "text/plain": [
       "                     name                         address  is_open  \\\n",
       "2            1000 Grammes  1495 Rue Sainte-Catherine East        1   \n",
       "4   108 Chinese Take Away      108 Portobello High Street        1   \n",
       "8            12 East Cafe             1153 E Jefferson St        0   \n",
       "11             168 Market               3459 S Jones Blvd        1   \n",
       "12       17th Street Cafe                    75 S 17th St        0   \n",
       "\n",
       "                                           name_addr  \\\n",
       "2        1000 Grammes 1495 Rue Sainte-Catherine East   \n",
       "4   108 Chinese Take Away 108 Portobello High Street   \n",
       "8                   12 East Cafe 1153 E Jefferson St   \n",
       "11                      168 Market 3459 S Jones Blvd   \n",
       "12                     17th Street Cafe 75 S 17th St   \n",
       "\n",
       "                                       full_name_addr  \n",
       "2   1000 Grammes 1495 Rue Sainte-Catherine East Vi...  \n",
       "4   108 Chinese Take Away 108 Portobello High Stre...  \n",
       "8   12 East Cafe 1153 E Jefferson St Phoenix  AZ 8...  \n",
       "11  168 Market 3459 S Jones Blvd Chinatown Las Veg...  \n",
       "12  17th Street Cafe 75 S 17th St South Side Pitts...  "
      ]
     },
     "execution_count": 81,
     "metadata": {},
     "output_type": "execute_result"
    }
   ],
   "source": [
    "y['full_name_addr'] = y['name_addr'].map(matched)\n",
    "y.dropna(inplace=True)\n",
    "y.head()"
   ]
  },
  {
   "cell_type": "code",
   "execution_count": 87,
   "metadata": {
    "scrolled": true
   },
   "outputs": [
    {
     "data": {
      "text/html": [
       "<div>\n",
       "<style scoped>\n",
       "    .dataframe tbody tr th:only-of-type {\n",
       "        vertical-align: middle;\n",
       "    }\n",
       "\n",
       "    .dataframe tbody tr th {\n",
       "        vertical-align: top;\n",
       "    }\n",
       "\n",
       "    .dataframe thead th {\n",
       "        text-align: right;\n",
       "    }\n",
       "</style>\n",
       "<table border=\"1\" class=\"dataframe\">\n",
       "  <thead>\n",
       "    <tr style=\"text-align: right;\">\n",
       "      <th></th>\n",
       "      <th>full_address</th>\n",
       "      <th>name</th>\n",
       "      <th>is_open</th>\n",
       "    </tr>\n",
       "  </thead>\n",
       "  <tbody>\n",
       "    <tr>\n",
       "      <th>0</th>\n",
       "      <td>1495 Rue Sainte-Catherine East Ville-Marie Mon...</td>\n",
       "      <td>1000 Grammes</td>\n",
       "      <td>1</td>\n",
       "    </tr>\n",
       "    <tr>\n",
       "      <th>1</th>\n",
       "      <td>108 Portobello High Street Edinburgh EH15 1AL</td>\n",
       "      <td>108 Chinese Take Away</td>\n",
       "      <td>1</td>\n",
       "    </tr>\n",
       "    <tr>\n",
       "      <th>2</th>\n",
       "      <td>1153 E Jefferson St Phoenix  AZ 85034</td>\n",
       "      <td>12 East Cafe</td>\n",
       "      <td>0</td>\n",
       "    </tr>\n",
       "    <tr>\n",
       "      <th>3</th>\n",
       "      <td>3459 S Jones Blvd Chinatown Las Vegas  NV 89146</td>\n",
       "      <td>168 Market</td>\n",
       "      <td>1</td>\n",
       "    </tr>\n",
       "    <tr>\n",
       "      <th>4</th>\n",
       "      <td>75 S 17th St South Side Pittsburgh  PA 15203</td>\n",
       "      <td>17th Street Cafe</td>\n",
       "      <td>0</td>\n",
       "    </tr>\n",
       "  </tbody>\n",
       "</table>\n",
       "</div>"
      ],
      "text/plain": [
       "                                        full_address                   name  \\\n",
       "0  1495 Rue Sainte-Catherine East Ville-Marie Mon...           1000 Grammes   \n",
       "1      108 Portobello High Street Edinburgh EH15 1AL  108 Chinese Take Away   \n",
       "2              1153 E Jefferson St Phoenix  AZ 85034           12 East Cafe   \n",
       "3    3459 S Jones Blvd Chinatown Las Vegas  NV 89146             168 Market   \n",
       "4       75 S 17th St South Side Pittsburgh  PA 15203       17th Street Cafe   \n",
       "\n",
       "   is_open  \n",
       "0        1  \n",
       "1        1  \n",
       "2        0  \n",
       "3        1  \n",
       "4        0  "
      ]
     },
     "execution_count": 87,
     "metadata": {},
     "output_type": "execute_result"
    }
   ],
   "source": [
    "y_final = pd.merge(X, y, how='inner', left_on='name_addr', right_on='full_name_addr')\n",
    "y_final.drop(columns=['name_x', 'name_addr_y', 'name_addr_x', 'address', 'full_name_addr'], inplace=True)\n",
    "y_final.rename(columns={\"name_y\":\"name\"}, inplace=True)\n",
    "y_final.head()"
   ]
  },
  {
   "cell_type": "code",
   "execution_count": 88,
   "metadata": {},
   "outputs": [
    {
     "ename": "NameError",
     "evalue": "name 'conn' is not defined",
     "output_type": "error",
     "traceback": [
      "\u001b[0;31m---------------------------------------------------------------------------\u001b[0m",
      "\u001b[0;31mNameError\u001b[0m                                 Traceback (most recent call last)",
      "\u001b[0;32m<ipython-input-88-e55d2e8dd090>\u001b[0m in \u001b[0;36m<module>\u001b[0;34m()\u001b[0m\n\u001b[0;32m----> 1\u001b[0;31m \u001b[0my_final\u001b[0m\u001b[0;34m.\u001b[0m\u001b[0mto_sql\u001b[0m\u001b[0;34m(\u001b[0m\u001b[0;34m'target'\u001b[0m\u001b[0;34m,\u001b[0m \u001b[0mconn\u001b[0m\u001b[0;34m,\u001b[0m \u001b[0mif_exists\u001b[0m\u001b[0;34m=\u001b[0m\u001b[0;34m'replace'\u001b[0m\u001b[0;34m,\u001b[0m \u001b[0mindex\u001b[0m\u001b[0;34m=\u001b[0m\u001b[0;32mFalse\u001b[0m\u001b[0;34m)\u001b[0m\u001b[0;34m\u001b[0m\u001b[0m\n\u001b[0m",
      "\u001b[0;31mNameError\u001b[0m: name 'conn' is not defined"
     ]
    }
   ],
   "source": [
    "y_final.to_sql('target', conn, if_exists='replace', index=False)"
   ]
  },
  {
   "cell_type": "code",
   "execution_count": null,
   "metadata": {},
   "outputs": [],
   "source": []
  }
 ],
 "metadata": {
  "kernelspec": {
   "display_name": "Python 3",
   "language": "python",
   "name": "python3"
  },
  "language_info": {
   "codemirror_mode": {
    "name": "ipython",
    "version": 3
   },
   "file_extension": ".py",
   "mimetype": "text/x-python",
   "name": "python",
   "nbconvert_exporter": "python",
   "pygments_lexer": "ipython3",
   "version": "3.6.5"
  }
 },
 "nbformat": 4,
 "nbformat_minor": 2
}
