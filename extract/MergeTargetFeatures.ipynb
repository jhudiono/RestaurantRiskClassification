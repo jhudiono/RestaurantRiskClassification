{
 "cells": [
  {
   "cell_type": "markdown",
   "metadata": {},
   "source": [
    "Match target data to features and save merged table to SQL.\n",
    "* Load feature table (full address).\n",
    "* Load target table (partial address).\n",
    "* Create name_addr column (business name + address) for each table.\n",
    "* Match partial name_addr to full name_addr with fuzzywuzzy.\n",
    "* Map full name_addr to target table.\n",
    "* Save address mapping table to SQL."
   ]
  },
  {
   "cell_type": "code",
   "execution_count": 2,
   "metadata": {},
   "outputs": [],
   "source": [
    "import numpy as np\n",
    "import pandas as pd\n",
    "import psycopg2\n",
    "\n",
    "from fuzzywuzzy import fuzz\n",
    "from sklearn_pandas import DataFrameMapper\n",
    "from sklearn.preprocessing import LabelBinarizer\n",
    "from sqlalchemy import create_engine, inspect\n",
    "\n",
    "PSQL = 'postgres://{}@localhost:5432/rpred'"
   ]
  },
  {
   "cell_type": "code",
   "execution_count": 3,
   "metadata": {},
   "outputs": [],
   "source": [
    "def match(full_addr, addr, threshold=70):\n",
    "    \"\"\"Determine if addresses probably match, i.e. 123 Spring St --> 123 Spring Street Seattle WA 98108\"\"\"\n",
    "    return fuzz.partial_ratio(full_addr, addr) > threshold;"
   ]
  },
  {
   "cell_type": "code",
   "execution_count": 4,
   "metadata": {},
   "outputs": [],
   "source": [
    "cred = \"\"\n",
    "with open(\"../credentials/localhost/jessica.txt\") as credfile:\n",
    "    cred = credfile.read().strip(\"\\n\")\n",
    "    \n",
    "cnx = create_engine(PSQL.format(cred), isolation_level='AUTOCOMMIT')\n",
    "\n",
    "# Load target data\n",
    "y = pd.read_sql_query(\n",
    "    '''SELECT name, address, is_open FROM yelp_11 ORDER BY name''', cnx)\n",
    "\n",
    "# Load feature data\n",
    "X = pd.read_sql_query(\n",
    "    '''SELECT name, full_address FROM yelp_8 ORDER BY name''', cnx)\n",
    "\n",
    "assert len(X) > 100, \"features table suspiciously small...\"\n",
    "assert len(y) > 100, \"target table suspiciously small...\""
   ]
  },
  {
   "cell_type": "code",
   "execution_count": 5,
   "metadata": {
    "scrolled": true
   },
   "outputs": [
    {
     "name": "stdout",
     "output_type": "stream",
     "text": [
      "full: ('100℃ 5600 Spring Mountain Rd Ste B Chinatown Las Vegas, NV 89146', '5600 Spring Mountain Rd Ste B Chinatown Las Vegas, NV 89146')\n",
      "partial: ('00 Gelato 370 King Street W', '370 King Street W')\n"
     ]
    }
   ],
   "source": [
    "# Strip newline from full address.\n",
    "X['full_address'] = X['full_address'].apply(lambda s: s.replace(\"\\n\", \" \"))\n",
    "\n",
    "# Create Dataframe columns for name+address keys\n",
    "X['name_addr'] = X['name'] + \" \" + X['full_address']\n",
    "y['name_addr'] = y['name'] + \" \" + y['address']\n",
    "\n",
    "# Make dicts mapping keys to addresses. \n",
    "full_dict = X.set_index('name_addr').to_dict(orient='dict')['full_address']\n",
    "partial_dict = y.set_index('name_addr').to_dict(orient='dict')['address']\n",
    "print(\"full:\", list(full_dict.items())[0])\n",
    "print(\"partial:\", list(partial_dict.items())[0])"
   ]
  },
  {
   "cell_type": "code",
   "execution_count": 9,
   "metadata": {
    "scrolled": false
   },
   "outputs": [
    {
     "name": "stdout",
     "output_type": "stream",
     "text": [
      "27091 matched\n",
      "32934 full addresses remaining\n",
      "65683 partial addresses remaining\n"
     ]
    }
   ],
   "source": [
    "matched = {}\n",
    "partial_keys = sorted(list(partial_dict.keys()))\n",
    "full_keys = sorted(list(full_dict.keys()))\n",
    "\n",
    "partial = partial_keys.pop()\n",
    "full = full_keys.pop()\n",
    "# Iterate until run out of addresses to match.\n",
    "while partial_keys and full_keys:\n",
    "    if match(full, partial, 90):\n",
    "        matched[partial] = full\n",
    "        partial = partial_keys.pop()\n",
    "        full = full_keys.pop()\n",
    "    elif partial < full:\n",
    "        full = full_keys.pop()\n",
    "    else:\n",
    "        partial = partial_keys.pop()\n",
    "print(len(matched), \"matched\")\n",
    "print(len(full_dict), \"full addresses remaining\")\n",
    "print(len(partial_dict), \"partial addresses remaining\")"
   ]
  },
  {
   "cell_type": "code",
   "execution_count": 7,
   "metadata": {},
   "outputs": [
    {
     "ename": "FileNotFoundError",
     "evalue": "[Errno 2] No such file or directory: 'data/target_matching/address_map.csv'",
     "output_type": "error",
     "traceback": [
      "\u001b[0;31m---------------------------------------------------------------------------\u001b[0m",
      "\u001b[0;31mFileNotFoundError\u001b[0m                         Traceback (most recent call last)",
      "\u001b[0;32m<ipython-input-7-3d843ba6470c>\u001b[0m in \u001b[0;36m<module>\u001b[0;34m()\u001b[0m\n\u001b[1;32m      1\u001b[0m \u001b[0mstr1\u001b[0m \u001b[0;34m=\u001b[0m \u001b[0;34m\"\\n\"\u001b[0m\u001b[0;34m.\u001b[0m\u001b[0mjoin\u001b[0m\u001b[0;34m(\u001b[0m\u001b[0;34m[\u001b[0m\u001b[0;34m\"{},{}\"\u001b[0m\u001b[0;34m.\u001b[0m\u001b[0mformat\u001b[0m\u001b[0;34m(\u001b[0m\u001b[0mi\u001b[0m\u001b[0;34m[\u001b[0m\u001b[0;36m0\u001b[0m\u001b[0;34m]\u001b[0m\u001b[0;34m,\u001b[0m \u001b[0mi\u001b[0m\u001b[0;34m[\u001b[0m\u001b[0;36m1\u001b[0m\u001b[0;34m]\u001b[0m\u001b[0;34m)\u001b[0m \u001b[0;32mfor\u001b[0m \u001b[0mi\u001b[0m \u001b[0;32min\u001b[0m \u001b[0mmatched\u001b[0m\u001b[0;34m.\u001b[0m\u001b[0mitems\u001b[0m\u001b[0;34m(\u001b[0m\u001b[0;34m)\u001b[0m\u001b[0;34m]\u001b[0m\u001b[0;34m)\u001b[0m\u001b[0;34m\u001b[0m\u001b[0m\n\u001b[0;32m----> 2\u001b[0;31m \u001b[0;32mwith\u001b[0m \u001b[0mopen\u001b[0m\u001b[0;34m(\u001b[0m\u001b[0;34m\"data/target_matching/address_map.csv\"\u001b[0m\u001b[0;34m,\u001b[0m \u001b[0;34m\"w\"\u001b[0m\u001b[0;34m)\u001b[0m \u001b[0;32mas\u001b[0m \u001b[0mfile\u001b[0m\u001b[0;34m:\u001b[0m\u001b[0;34m\u001b[0m\u001b[0m\n\u001b[0m\u001b[1;32m      3\u001b[0m     \u001b[0mfile\u001b[0m\u001b[0;34m.\u001b[0m\u001b[0mwrite\u001b[0m\u001b[0;34m(\u001b[0m\u001b[0mstr1\u001b[0m\u001b[0;34m)\u001b[0m\u001b[0;34m\u001b[0m\u001b[0m\n",
      "\u001b[0;31mFileNotFoundError\u001b[0m: [Errno 2] No such file or directory: 'data/target_matching/address_map.csv'"
     ]
    }
   ],
   "source": [
    "str1 = \"\\n\".join([\"{},{}\".format(i[0], i[1]) for i in matched.items()])\n",
    "with open(\"data/target_matching/address_map.csv\", \"w\") as file:\n",
    "    file.write(str1)"
   ]
  },
  {
   "cell_type": "code",
   "execution_count": 10,
   "metadata": {
    "scrolled": true
   },
   "outputs": [
    {
     "data": {
      "text/html": [
       "<div>\n",
       "<style scoped>\n",
       "    .dataframe tbody tr th:only-of-type {\n",
       "        vertical-align: middle;\n",
       "    }\n",
       "\n",
       "    .dataframe tbody tr th {\n",
       "        vertical-align: top;\n",
       "    }\n",
       "\n",
       "    .dataframe thead th {\n",
       "        text-align: right;\n",
       "    }\n",
       "</style>\n",
       "<table border=\"1\" class=\"dataframe\">\n",
       "  <thead>\n",
       "    <tr style=\"text-align: right;\">\n",
       "      <th></th>\n",
       "      <th>name</th>\n",
       "      <th>address</th>\n",
       "      <th>is_open</th>\n",
       "      <th>name_addr</th>\n",
       "      <th>full_name_addr</th>\n",
       "    </tr>\n",
       "  </thead>\n",
       "  <tbody>\n",
       "    <tr>\n",
       "      <th>2</th>\n",
       "      <td>100℃</td>\n",
       "      <td>5600 Spring Mountain Rd, Ste B</td>\n",
       "      <td>0</td>\n",
       "      <td>100℃ 5600 Spring Mountain Rd, Ste B</td>\n",
       "      <td>100℃ 5600 Spring Mountain Rd Ste B Chinatown L...</td>\n",
       "    </tr>\n",
       "    <tr>\n",
       "      <th>5</th>\n",
       "      <td>1000 Degrees Neapolitan Pizzeria</td>\n",
       "      <td>7000 E Mayo Blvd</td>\n",
       "      <td>1</td>\n",
       "      <td>1000 Degrees Neapolitan Pizzeria 7000 E Mayo Blvd</td>\n",
       "      <td>1000 Degrees Neapolitan Pizzeria 7000 E Mayo B...</td>\n",
       "    </tr>\n",
       "    <tr>\n",
       "      <th>6</th>\n",
       "      <td>1000 Grammes</td>\n",
       "      <td>1495 Rue Sainte-Catherine East</td>\n",
       "      <td>1</td>\n",
       "      <td>1000 Grammes 1495 Rue Sainte-Catherine East</td>\n",
       "      <td>1000 Grammes 1495 Rue Sainte-Catherine East Vi...</td>\n",
       "    </tr>\n",
       "    <tr>\n",
       "      <th>10</th>\n",
       "      <td>100% Natural Mexican Grill</td>\n",
       "      <td>7455 Eastern Ave</td>\n",
       "      <td>0</td>\n",
       "      <td>100% Natural Mexican Grill 7455 Eastern Ave</td>\n",
       "      <td>100% Natural Mexican Grill 7455 Eastern Ave So...</td>\n",
       "    </tr>\n",
       "    <tr>\n",
       "      <th>13</th>\n",
       "      <td>101 Asian Buffet</td>\n",
       "      <td>20440 N 27th Ave</td>\n",
       "      <td>0</td>\n",
       "      <td>101 Asian Buffet 20440 N 27th Ave</td>\n",
       "      <td>101 Asian Buffet 20440 N 27th Ave Phoenix, AZ ...</td>\n",
       "    </tr>\n",
       "  </tbody>\n",
       "</table>\n",
       "</div>"
      ],
      "text/plain": [
       "                                name                         address  is_open  \\\n",
       "2                               100℃  5600 Spring Mountain Rd, Ste B        0   \n",
       "5   1000 Degrees Neapolitan Pizzeria                7000 E Mayo Blvd        1   \n",
       "6                       1000 Grammes  1495 Rue Sainte-Catherine East        1   \n",
       "10        100% Natural Mexican Grill                7455 Eastern Ave        0   \n",
       "13                  101 Asian Buffet                20440 N 27th Ave        0   \n",
       "\n",
       "                                            name_addr  \\\n",
       "2                 100℃ 5600 Spring Mountain Rd, Ste B   \n",
       "5   1000 Degrees Neapolitan Pizzeria 7000 E Mayo Blvd   \n",
       "6         1000 Grammes 1495 Rue Sainte-Catherine East   \n",
       "10        100% Natural Mexican Grill 7455 Eastern Ave   \n",
       "13                  101 Asian Buffet 20440 N 27th Ave   \n",
       "\n",
       "                                       full_name_addr  \n",
       "2   100℃ 5600 Spring Mountain Rd Ste B Chinatown L...  \n",
       "5   1000 Degrees Neapolitan Pizzeria 7000 E Mayo B...  \n",
       "6   1000 Grammes 1495 Rue Sainte-Catherine East Vi...  \n",
       "10  100% Natural Mexican Grill 7455 Eastern Ave So...  \n",
       "13  101 Asian Buffet 20440 N 27th Ave Phoenix, AZ ...  "
      ]
     },
     "execution_count": 10,
     "metadata": {},
     "output_type": "execute_result"
    }
   ],
   "source": [
    "y['full_name_addr'] = y['name_addr'].map(matched)\n",
    "y.dropna(inplace=True)\n",
    "y.head()"
   ]
  },
  {
   "cell_type": "code",
   "execution_count": 11,
   "metadata": {
    "scrolled": true
   },
   "outputs": [
    {
     "data": {
      "text/html": [
       "<div>\n",
       "<style scoped>\n",
       "    .dataframe tbody tr th:only-of-type {\n",
       "        vertical-align: middle;\n",
       "    }\n",
       "\n",
       "    .dataframe tbody tr th {\n",
       "        vertical-align: top;\n",
       "    }\n",
       "\n",
       "    .dataframe thead th {\n",
       "        text-align: right;\n",
       "    }\n",
       "</style>\n",
       "<table border=\"1\" class=\"dataframe\">\n",
       "  <thead>\n",
       "    <tr style=\"text-align: right;\">\n",
       "      <th></th>\n",
       "      <th>full_address</th>\n",
       "      <th>name</th>\n",
       "      <th>is_open</th>\n",
       "    </tr>\n",
       "  </thead>\n",
       "  <tbody>\n",
       "    <tr>\n",
       "      <th>0</th>\n",
       "      <td>5600 Spring Mountain Rd Ste B Chinatown Las Ve...</td>\n",
       "      <td>100℃</td>\n",
       "      <td>0</td>\n",
       "    </tr>\n",
       "    <tr>\n",
       "      <th>1</th>\n",
       "      <td>7000 E Mayo Blvd Phoenix, AZ 85054</td>\n",
       "      <td>1000 Degrees Neapolitan Pizzeria</td>\n",
       "      <td>1</td>\n",
       "    </tr>\n",
       "    <tr>\n",
       "      <th>2</th>\n",
       "      <td>1495 Rue Sainte-Catherine East Ville-Marie Mon...</td>\n",
       "      <td>1000 Grammes</td>\n",
       "      <td>1</td>\n",
       "    </tr>\n",
       "    <tr>\n",
       "      <th>3</th>\n",
       "      <td>7455 Eastern Ave Southeast Las Vegas, NV 89123</td>\n",
       "      <td>100% Natural Mexican Grill</td>\n",
       "      <td>0</td>\n",
       "    </tr>\n",
       "    <tr>\n",
       "      <th>4</th>\n",
       "      <td>20440 N 27th Ave Phoenix, AZ 85027</td>\n",
       "      <td>101 Asian Buffet</td>\n",
       "      <td>0</td>\n",
       "    </tr>\n",
       "  </tbody>\n",
       "</table>\n",
       "</div>"
      ],
      "text/plain": [
       "                                        full_address  \\\n",
       "0  5600 Spring Mountain Rd Ste B Chinatown Las Ve...   \n",
       "1                 7000 E Mayo Blvd Phoenix, AZ 85054   \n",
       "2  1495 Rue Sainte-Catherine East Ville-Marie Mon...   \n",
       "3     7455 Eastern Ave Southeast Las Vegas, NV 89123   \n",
       "4                 20440 N 27th Ave Phoenix, AZ 85027   \n",
       "\n",
       "                               name  is_open  \n",
       "0                              100℃        0  \n",
       "1  1000 Degrees Neapolitan Pizzeria        1  \n",
       "2                      1000 Grammes        1  \n",
       "3        100% Natural Mexican Grill        0  \n",
       "4                  101 Asian Buffet        0  "
      ]
     },
     "execution_count": 11,
     "metadata": {},
     "output_type": "execute_result"
    }
   ],
   "source": [
    "columns = ['full_address', 'name_y', 'is_open']\n",
    "y_final = pd.merge(X, y, how='inner', left_on='name_addr', right_on='full_name_addr')[columns]\n",
    "y_final.rename(columns={\"name_y\":\"name\"}, inplace=True)\n",
    "y_final.head()"
   ]
  },
  {
   "cell_type": "code",
   "execution_count": 12,
   "metadata": {},
   "outputs": [],
   "source": [
    "y_final.to_sql('address_map', cnx, if_exists='replace', index=False)"
   ]
  },
  {
   "cell_type": "code",
   "execution_count": null,
   "metadata": {},
   "outputs": [],
   "source": []
  }
 ],
 "metadata": {
  "kernelspec": {
   "display_name": "Python 3",
   "language": "python",
   "name": "python3"
  },
  "language_info": {
   "codemirror_mode": {
    "name": "ipython",
    "version": 3
   },
   "file_extension": ".py",
   "mimetype": "text/x-python",
   "name": "python",
   "nbconvert_exporter": "python",
   "pygments_lexer": "ipython3",
   "version": "3.6.5"
  }
 },
 "nbformat": 4,
 "nbformat_minor": 2
}
