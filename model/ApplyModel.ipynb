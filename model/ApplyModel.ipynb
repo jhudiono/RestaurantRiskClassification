{
 "cells": [
  {
   "cell_type": "code",
   "execution_count": 157,
   "metadata": {},
   "outputs": [],
   "source": [
    "import matplotlib.pyplot as plt\n",
    "from sklearn.ensemble import RandomForestClassifier, GradientBoostingClassifier\n",
    "import numpy as np\n",
    "from sqlalchemy import create_engine, inspect\n",
    "import pandas as pd\n",
    "from collections import Counter\n",
    "from sklearn.cross_validation import train_test_split, cross_val_score\n",
    "from sklearn.linear_model import LogisticRegression\n",
    "from sklearn.preprocessing import StandardScaler\n",
    "from sklearn.pipeline import make_pipeline\n",
    "from sklearn.model_selection import cross_validate\n",
    "\n",
    "PSQL = 'postgres://{}@localhost:5432/rpred'\n"
   ]
  },
  {
   "cell_type": "markdown",
   "metadata": {},
   "source": [
    "## [Apply Models](#models)"
   ]
  },
  {
   "cell_type": "code",
   "execution_count": 74,
   "metadata": {},
   "outputs": [],
   "source": [
    "cred = \"\"\n",
    "with open(\"credentials/localhost/jessica.txt\") as credfile:\n",
    "    cred = credfile.read().strip(\"\\n\")\n",
    "\n",
    "cnx = create_engine(PSQL.format(cred), isolation_level='AUTOCOMMIT')"
   ]
  },
  {
   "cell_type": "code",
   "execution_count": 155,
   "metadata": {},
   "outputs": [],
   "source": [
    "# fit model and return scores (classification report?)\n",
    "def apply_model(model, data, target, scoring=['accuracy']):\n",
    "    model = make_pipeline(StandardScaler(), model)\n",
    "    #return np.mean(cross_val_score(model, data, target, cv=10, scoring=scoring))\n",
    "    return cross_validate(model, data, target, scoring=scoring,\n",
    "                          cv=10, return_train_score=True)\n",
    "            \n",
    "# grid search?\n",
    "def optimize():\n",
    "    return None"
   ]
  },
  {
   "cell_type": "code",
   "execution_count": 189,
   "metadata": {
    "scrolled": true
   },
   "outputs": [
    {
     "data": {
      "text/html": [
       "<div>\n",
       "<style scoped>\n",
       "    .dataframe tbody tr th:only-of-type {\n",
       "        vertical-align: middle;\n",
       "    }\n",
       "\n",
       "    .dataframe tbody tr th {\n",
       "        vertical-align: top;\n",
       "    }\n",
       "\n",
       "    .dataframe thead th {\n",
       "        text-align: right;\n",
       "    }\n",
       "</style>\n",
       "<table border=\"1\" class=\"dataframe\">\n",
       "  <thead>\n",
       "    <tr style=\"text-align: right;\">\n",
       "      <th></th>\n",
       "      <th>name</th>\n",
       "      <th>full_address</th>\n",
       "      <th>review_count</th>\n",
       "      <th>stars</th>\n",
       "      <th>bar</th>\n",
       "      <th>fast_food</th>\n",
       "      <th>mexican</th>\n",
       "      <th>chinese</th>\n",
       "      <th>key</th>\n",
       "    </tr>\n",
       "  </thead>\n",
       "  <tbody>\n",
       "    <tr>\n",
       "      <th>0</th>\n",
       "      <td>1000 Grammes</td>\n",
       "      <td>1495 Rue Sainte-Catherine East Ville-Marie Mon...</td>\n",
       "      <td>19</td>\n",
       "      <td>3.5</td>\n",
       "      <td>0</td>\n",
       "      <td>0</td>\n",
       "      <td>0</td>\n",
       "      <td>0</td>\n",
       "      <td>1000 Grammes 1495 Rue Sainte-Catherine East Vi...</td>\n",
       "    </tr>\n",
       "    <tr>\n",
       "      <th>1</th>\n",
       "      <td>108 Chinese Take Away</td>\n",
       "      <td>108 Portobello High Street Edinburgh EH15 1AL</td>\n",
       "      <td>3</td>\n",
       "      <td>5.0</td>\n",
       "      <td>0</td>\n",
       "      <td>1</td>\n",
       "      <td>0</td>\n",
       "      <td>0</td>\n",
       "      <td>108 Chinese Take Away 108 Portobello High Stre...</td>\n",
       "    </tr>\n",
       "    <tr>\n",
       "      <th>2</th>\n",
       "      <td>10-to-10 In Delhi</td>\n",
       "      <td>67 Nicolson Street Newington Edinburgh EH8 9BZ</td>\n",
       "      <td>50</td>\n",
       "      <td>4.5</td>\n",
       "      <td>0</td>\n",
       "      <td>0</td>\n",
       "      <td>0</td>\n",
       "      <td>0</td>\n",
       "      <td>10-to-10 In Delhi 67 Nicolson Street Newington...</td>\n",
       "    </tr>\n",
       "    <tr>\n",
       "      <th>3</th>\n",
       "      <td>180g</td>\n",
       "      <td>6546 Rue Waverly Rosemont-La Petite-Patrie Mon...</td>\n",
       "      <td>4</td>\n",
       "      <td>5.0</td>\n",
       "      <td>0</td>\n",
       "      <td>0</td>\n",
       "      <td>0</td>\n",
       "      <td>0</td>\n",
       "      <td>180g 6546 Rue Waverly Rosemont-La Petite-Patri...</td>\n",
       "    </tr>\n",
       "    <tr>\n",
       "      <th>4</th>\n",
       "      <td>181 Delicatessen</td>\n",
       "      <td>181 Bruntsfield Road Bruntsfield Edinburgh EH1...</td>\n",
       "      <td>5</td>\n",
       "      <td>4.0</td>\n",
       "      <td>0</td>\n",
       "      <td>0</td>\n",
       "      <td>0</td>\n",
       "      <td>0</td>\n",
       "      <td>181 Delicatessen 181 Bruntsfield Road Bruntsfi...</td>\n",
       "    </tr>\n",
       "  </tbody>\n",
       "</table>\n",
       "</div>"
      ],
      "text/plain": [
       "                    name                                       full_address  \\\n",
       "0           1000 Grammes  1495 Rue Sainte-Catherine East Ville-Marie Mon...   \n",
       "1  108 Chinese Take Away      108 Portobello High Street Edinburgh EH15 1AL   \n",
       "2      10-to-10 In Delhi     67 Nicolson Street Newington Edinburgh EH8 9BZ   \n",
       "3                   180g  6546 Rue Waverly Rosemont-La Petite-Patrie Mon...   \n",
       "4       181 Delicatessen  181 Bruntsfield Road Bruntsfield Edinburgh EH1...   \n",
       "\n",
       "   review_count  stars  bar  fast_food  mexican  chinese  \\\n",
       "0            19    3.5    0          0        0        0   \n",
       "1             3    5.0    0          1        0        0   \n",
       "2            50    4.5    0          0        0        0   \n",
       "3             4    5.0    0          0        0        0   \n",
       "4             5    4.0    0          0        0        0   \n",
       "\n",
       "                                                 key  \n",
       "0  1000 Grammes 1495 Rue Sainte-Catherine East Vi...  \n",
       "1  108 Chinese Take Away 108 Portobello High Stre...  \n",
       "2  10-to-10 In Delhi 67 Nicolson Street Newington...  \n",
       "3  180g 6546 Rue Waverly Rosemont-La Petite-Patri...  \n",
       "4  181 Delicatessen 181 Bruntsfield Road Bruntsfi...  "
      ]
     },
     "execution_count": 189,
     "metadata": {},
     "output_type": "execute_result"
    }
   ],
   "source": [
    "features = pd.read_sql_query('''SELECT * from features order by name''', cnx)\n",
    "target = pd.read_sql_query('''SELECT * FROM target order by name''', cnx)\n",
    "features['key'] = features['name'] + \" \" + features['full_address']\n",
    "features.head()"
   ]
  },
  {
   "cell_type": "code",
   "execution_count": 190,
   "metadata": {
    "scrolled": true
   },
   "outputs": [
    {
     "name": "stdout",
     "output_type": "stream",
     "text": [
      "open: 0.744009305932532\n",
      "closed: 0.255990694067468\n"
     ]
    },
    {
     "data": {
      "text/html": [
       "<div>\n",
       "<style scoped>\n",
       "    .dataframe tbody tr th:only-of-type {\n",
       "        vertical-align: middle;\n",
       "    }\n",
       "\n",
       "    .dataframe tbody tr th {\n",
       "        vertical-align: top;\n",
       "    }\n",
       "\n",
       "    .dataframe thead th {\n",
       "        text-align: right;\n",
       "    }\n",
       "</style>\n",
       "<table border=\"1\" class=\"dataframe\">\n",
       "  <thead>\n",
       "    <tr style=\"text-align: right;\">\n",
       "      <th></th>\n",
       "      <th>full_address</th>\n",
       "      <th>name</th>\n",
       "      <th>stay_open</th>\n",
       "      <th>key</th>\n",
       "    </tr>\n",
       "  </thead>\n",
       "  <tbody>\n",
       "    <tr>\n",
       "      <th>0</th>\n",
       "      <td>1495 Rue Sainte-Catherine East Ville-Marie Mon...</td>\n",
       "      <td>1000 Grammes</td>\n",
       "      <td>1</td>\n",
       "      <td>1000 Grammes 1495 Rue Sainte-Catherine East Vi...</td>\n",
       "    </tr>\n",
       "    <tr>\n",
       "      <th>1</th>\n",
       "      <td>108 Portobello High Street Edinburgh EH15 1AL</td>\n",
       "      <td>108 Chinese Take Away</td>\n",
       "      <td>1</td>\n",
       "      <td>108 Chinese Take Away 108 Portobello High Stre...</td>\n",
       "    </tr>\n",
       "    <tr>\n",
       "      <th>2</th>\n",
       "      <td>1153 E Jefferson St Phoenix  AZ 85034</td>\n",
       "      <td>12 East Cafe</td>\n",
       "      <td>0</td>\n",
       "      <td>12 East Cafe 1153 E Jefferson St Phoenix  AZ 8...</td>\n",
       "    </tr>\n",
       "    <tr>\n",
       "      <th>3</th>\n",
       "      <td>3459 S Jones Blvd Chinatown Las Vegas  NV 89146</td>\n",
       "      <td>168 Market</td>\n",
       "      <td>1</td>\n",
       "      <td>168 Market 3459 S Jones Blvd Chinatown Las Veg...</td>\n",
       "    </tr>\n",
       "    <tr>\n",
       "      <th>4</th>\n",
       "      <td>75 S 17th St South Side Pittsburgh  PA 15203</td>\n",
       "      <td>17th Street Cafe</td>\n",
       "      <td>0</td>\n",
       "      <td>17th Street Cafe 75 S 17th St South Side Pitts...</td>\n",
       "    </tr>\n",
       "  </tbody>\n",
       "</table>\n",
       "</div>"
      ],
      "text/plain": [
       "                                        full_address                   name  \\\n",
       "0  1495 Rue Sainte-Catherine East Ville-Marie Mon...           1000 Grammes   \n",
       "1      108 Portobello High Street Edinburgh EH15 1AL  108 Chinese Take Away   \n",
       "2              1153 E Jefferson St Phoenix  AZ 85034           12 East Cafe   \n",
       "3    3459 S Jones Blvd Chinatown Las Vegas  NV 89146             168 Market   \n",
       "4       75 S 17th St South Side Pittsburgh  PA 15203       17th Street Cafe   \n",
       "\n",
       "   stay_open                                                key  \n",
       "0          1  1000 Grammes 1495 Rue Sainte-Catherine East Vi...  \n",
       "1          1  108 Chinese Take Away 108 Portobello High Stre...  \n",
       "2          0  12 East Cafe 1153 E Jefferson St Phoenix  AZ 8...  \n",
       "3          1  168 Market 3459 S Jones Blvd Chinatown Las Veg...  \n",
       "4          0  17th Street Cafe 75 S 17th St South Side Pitts...  "
      ]
     },
     "execution_count": 190,
     "metadata": {},
     "output_type": "execute_result"
    }
   ],
   "source": [
    "target['key'] = target['name'] + \" \" + target['full_address']\n",
    "target.rename(columns={'is_open':'stay_open'}, inplace=True)\n",
    "print(\"open:\", len(target[target['stay_open'] == 1])/len(target))\n",
    "print(\"closed:\", len(target[target['stay_open'] == 0])/len(target))\n",
    "target.head()"
   ]
  },
  {
   "cell_type": "code",
   "execution_count": 202,
   "metadata": {},
   "outputs": [
    {
     "name": "stdout",
     "output_type": "stream",
     "text": [
      "open: 0.9277450338354071\n",
      "closed: 0.07225496616459288\n"
     ]
    },
    {
     "data": {
      "text/html": [
       "<div>\n",
       "<style scoped>\n",
       "    .dataframe tbody tr th:only-of-type {\n",
       "        vertical-align: middle;\n",
       "    }\n",
       "\n",
       "    .dataframe tbody tr th {\n",
       "        vertical-align: top;\n",
       "    }\n",
       "\n",
       "    .dataframe thead th {\n",
       "        text-align: right;\n",
       "    }\n",
       "</style>\n",
       "<table border=\"1\" class=\"dataframe\">\n",
       "  <thead>\n",
       "    <tr style=\"text-align: right;\">\n",
       "      <th></th>\n",
       "      <th>review_count</th>\n",
       "      <th>stars</th>\n",
       "      <th>bar</th>\n",
       "      <th>fast_food</th>\n",
       "      <th>mexican</th>\n",
       "      <th>chinese</th>\n",
       "      <th>key</th>\n",
       "      <th>stay_open</th>\n",
       "    </tr>\n",
       "  </thead>\n",
       "  <tbody>\n",
       "    <tr>\n",
       "      <th>0</th>\n",
       "      <td>19</td>\n",
       "      <td>3.5</td>\n",
       "      <td>0</td>\n",
       "      <td>0</td>\n",
       "      <td>0</td>\n",
       "      <td>0</td>\n",
       "      <td>1000 Grammes 1495 Rue Sainte-Catherine East Vi...</td>\n",
       "      <td>1</td>\n",
       "    </tr>\n",
       "    <tr>\n",
       "      <th>1</th>\n",
       "      <td>3</td>\n",
       "      <td>5.0</td>\n",
       "      <td>0</td>\n",
       "      <td>1</td>\n",
       "      <td>0</td>\n",
       "      <td>0</td>\n",
       "      <td>108 Chinese Take Away 108 Portobello High Stre...</td>\n",
       "      <td>1</td>\n",
       "    </tr>\n",
       "    <tr>\n",
       "      <th>2</th>\n",
       "      <td>4</td>\n",
       "      <td>5.0</td>\n",
       "      <td>0</td>\n",
       "      <td>0</td>\n",
       "      <td>0</td>\n",
       "      <td>0</td>\n",
       "      <td>180g 6546 Rue Waverly Rosemont-La Petite-Patri...</td>\n",
       "      <td>1</td>\n",
       "    </tr>\n",
       "    <tr>\n",
       "      <th>3</th>\n",
       "      <td>5</td>\n",
       "      <td>4.0</td>\n",
       "      <td>0</td>\n",
       "      <td>0</td>\n",
       "      <td>0</td>\n",
       "      <td>0</td>\n",
       "      <td>181 Delicatessen 181 Bruntsfield Road Bruntsfi...</td>\n",
       "      <td>1</td>\n",
       "    </tr>\n",
       "    <tr>\n",
       "      <th>4</th>\n",
       "      <td>4</td>\n",
       "      <td>5.0</td>\n",
       "      <td>0</td>\n",
       "      <td>0</td>\n",
       "      <td>0</td>\n",
       "      <td>0</td>\n",
       "      <td>1865 Coffee 40 E University Dr Tempe  AZ 85281</td>\n",
       "      <td>1</td>\n",
       "    </tr>\n",
       "  </tbody>\n",
       "</table>\n",
       "</div>"
      ],
      "text/plain": [
       "   review_count  stars  bar  fast_food  mexican  chinese  \\\n",
       "0            19    3.5    0          0        0        0   \n",
       "1             3    5.0    0          1        0        0   \n",
       "2             4    5.0    0          0        0        0   \n",
       "3             5    4.0    0          0        0        0   \n",
       "4             4    5.0    0          0        0        0   \n",
       "\n",
       "                                                 key  stay_open  \n",
       "0  1000 Grammes 1495 Rue Sainte-Catherine East Vi...          1  \n",
       "1  108 Chinese Take Away 108 Portobello High Stre...          1  \n",
       "2  180g 6546 Rue Waverly Rosemont-La Petite-Patri...          1  \n",
       "3  181 Delicatessen 181 Bruntsfield Road Bruntsfi...          1  \n",
       "4     1865 Coffee 40 E University Dr Tempe  AZ 85281          1  "
      ]
     },
     "execution_count": 202,
     "metadata": {},
     "output_type": "execute_result"
    }
   ],
   "source": [
    "df = pd.merge(features, target, on='key', how='inner')\n",
    "df.drop(columns=['name_y', 'name_x', 'full_address_x', 'full_address_y'], inplace=True)\n",
    "print(\"open:\", len(df[df['stay_open'] == 1])/len(df))\n",
    "print(\"closed:\", len(df[df['stay_open'] == 0])/len(df))\n",
    "df.head()"
   ]
  },
  {
   "cell_type": "code",
   "execution_count": 203,
   "metadata": {},
   "outputs": [
    {
     "name": "stdout",
     "output_type": "stream",
     "text": [
      "9824\n",
      "open: 0.865228013029316\n",
      "closed: 0.13477198697068404\n"
     ]
    }
   ],
   "source": [
    "#TODO: try to remove open venues...\n",
    "closed = df[df['stay_open'] == 0]\n",
    "stay_open = df[df['stay_open'] == 1]\n",
    "\n",
    "df = pd.concat([closed, closed, stay_open])\n",
    "    \n",
    "print(len(df))\n",
    "print(\"open:\", len(df[df['stay_open'] == 1])/len(df))\n",
    "print(\"closed:\", len(df[df['stay_open'] == 0])/len(df))"
   ]
  },
  {
   "cell_type": "code",
   "execution_count": 204,
   "metadata": {},
   "outputs": [],
   "source": [
    "y = df['stay_open']\n",
    "X = df.drop(columns=['stay_open', 'key'])"
   ]
  },
  {
   "cell_type": "markdown",
   "metadata": {},
   "source": [
    " <a class=\"anchor\" id=\"models\"></a>\n",
    "# Run Models\n",
    "\n",
    "metrics = ['accuracy', 'adjusted_mutual_info_score', 'adjusted_rand_score', 'average_precision', 'completeness_score', 'explained_variance', 'f1', 'f1_macro', 'f1_micro', 'f1_samples', 'f1_weighted', 'fowlkes_mallows_score', 'homogeneity_score', 'mutual_info_score', 'neg_log_loss', 'neg_mean_absolute_error', 'neg_mean_squared_error', 'neg_mean_squared_log_error', 'neg_median_absolute_error', 'normalized_mutual_info_score', 'precision', 'precision_macro', 'precision_micro', 'precision_samples', 'precision_weighted', 'r2', 'recall', 'recall_macro', 'recall_micro', 'recall_samples', 'recall_weighted', 'roc_auc', 'v_measure_score']\n",
    "\n",
    "* open: 0.9277450338354071\n",
    "* closed: 0.07225496616459288"
   ]
  },
  {
   "cell_type": "code",
   "execution_count": 183,
   "metadata": {},
   "outputs": [],
   "source": [
    "scoring = ['accuracy', 'precision', 'recall', 'f1', 'roc_auc', 'explained_variance']"
   ]
  },
  {
   "cell_type": "code",
   "execution_count": null,
   "metadata": {},
   "outputs": [],
   "source": [
    "# baseline\n",
    "scores = apply_model(RandomForestClassifier(), X[['stars']], y, scoring)"
   ]
  },
  {
   "cell_type": "code",
   "execution_count": 205,
   "metadata": {
    "scrolled": true
   },
   "outputs": [
    {
     "data": {
      "text/plain": [
       "[('fit_time', 0.057198619842529295),\n",
       " ('score_time', 0.02292914390563965),\n",
       " ('test_accuracy', 0.856777954348155),\n",
       " ('train_accuracy', 0.888911468976114),\n",
       " ('test_precision', 0.8838582463790357),\n",
       " ('train_precision', 0.8977503511154923),\n",
       " ('test_recall', 0.9607058823529411),\n",
       " ('train_recall', 0.9836470588235293),\n",
       " ('test_f1', 0.9206622400291342),\n",
       " ('train_f1', 0.9387348987414594),\n",
       " ('test_roc_auc', 0.7824495865331779),\n",
       " ('train_roc_auc', 0.864120941090434),\n",
       " ('test_explained_variance', -0.17916042110624164),\n",
       " ('train_explained_variance', 0.10621367614435977)]"
      ]
     },
     "execution_count": 205,
     "metadata": {},
     "output_type": "execute_result"
    }
   ],
   "source": [
    "scores = apply_model(RandomForestClassifier(), X, y, scoring)\n",
    "[(m[0], np.mean(m[1])) for m in scores.items()]"
   ]
  },
  {
   "cell_type": "code",
   "execution_count": 206,
   "metadata": {},
   "outputs": [
    {
     "data": {
      "text/plain": [
       "[('fit_time', 0.35144758224487305),\n",
       " ('score_time', 0.013536787033081055),\n",
       " ('test_accuracy', 0.8649229363538609),\n",
       " ('train_accuracy', 0.8663703513127097),\n",
       " ('test_precision', 0.8655598525882556),\n",
       " ('train_precision', 0.8662676761085073),\n",
       " ('test_recall', 0.9990588235294118),\n",
       " ('train_recall', 0.9999215686274511),\n",
       " ('test_f1', 0.9275298981250458),\n",
       " ('train_f1', 0.9283084474142397),\n",
       " ('test_roc_auc', 0.6506763633683137),\n",
       " ('train_roc_auc', 0.7151192987797568),\n",
       " ('test_explained_variance', -0.005638514736037903),\n",
       " ('train_explained_variance', 0.006860745133175472)]"
      ]
     },
     "execution_count": 206,
     "metadata": {},
     "output_type": "execute_result"
    }
   ],
   "source": [
    "scores = apply_model(GradientBoostingClassifier(), X, y, scoring)\n",
    "[(m[0], np.mean(m[1])) for m in scores.items()]"
   ]
  },
  {
   "cell_type": "code",
   "execution_count": 207,
   "metadata": {},
   "outputs": [
    {
     "data": {
      "text/plain": [
       "[('fit_time', 0.013365864753723145),\n",
       " ('score_time', 0.005452680587768555),\n",
       " ('test_accuracy', 0.865228228147344),\n",
       " ('train_accuracy', 0.8652280156856943),\n",
       " ('test_precision', 0.865228228147344),\n",
       " ('train_precision', 0.8652280156856943),\n",
       " ('test_recall', 1.0),\n",
       " ('train_recall', 1.0),\n",
       " ('test_f1', 0.9277451001412723),\n",
       " ('train_f1', 0.9277450346540974),\n",
       " ('test_roc_auc', 0.6069945518877408),\n",
       " ('train_roc_auc', 0.6118128887094126),\n",
       " ('test_explained_variance', 6.661338147750939e-17),\n",
       " ('train_explained_variance', -1.3322676295501878e-16)]"
      ]
     },
     "execution_count": 207,
     "metadata": {},
     "output_type": "execute_result"
    }
   ],
   "source": [
    "scores = apply_model(LogisticRegression(), X, y, scoring)\n",
    "[(m[0], np.mean(m[1])) for m in scores.items()]"
   ]
  },
  {
   "cell_type": "markdown",
   "metadata": {},
   "source": [
    "# Scratch"
   ]
  },
  {
   "cell_type": "markdown",
   "metadata": {},
   "source": [
    "f1 -> 1"
   ]
  },
  {
   "cell_type": "code",
   "execution_count": null,
   "metadata": {},
   "outputs": [],
   "source": []
  }
 ],
 "metadata": {
  "kernelspec": {
   "display_name": "Python 3",
   "language": "python",
   "name": "python3"
  },
  "language_info": {
   "codemirror_mode": {
    "name": "ipython",
    "version": 3
   },
   "file_extension": ".py",
   "mimetype": "text/x-python",
   "name": "python",
   "nbconvert_exporter": "python",
   "pygments_lexer": "ipython3",
   "version": "3.6.5"
  }
 },
 "nbformat": 4,
 "nbformat_minor": 2
}
